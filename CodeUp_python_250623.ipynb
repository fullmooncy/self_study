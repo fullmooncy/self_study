{
 "cells": [
  {
   "cell_type": "code",
   "execution_count": 109,
   "id": "91c89006",
   "metadata": {},
   "outputs": [
    {
     "name": "stdout",
     "output_type": "stream",
     "text": [
      "\"!@#$%&*()'\n"
     ]
    }
   ],
   "source": [
    "# CodeUp Python 기초 100제\n",
    "# https://codeup.kr/problemsetsol.php?psid=33\n",
    "\n",
    "# 6006. \"!@#$%^&*()' 출력하기\n",
    "print(\"\\\"!@#$%&*()\\'\")"
   ]
  },
  {
   "cell_type": "code",
   "execution_count": null,
   "id": "56a67df4",
   "metadata": {},
   "outputs": [
    {
     "name": "stdout",
     "output_type": "stream",
     "text": [
      "\"C:\\Download\\'hello'.py\"\n"
     ]
    }
   ],
   "source": [
    "# 6007. [기초-출력] 출력하기07(py)\n",
    "print(\"\\\"C:\\\\Download\\\\\\'hello\\'.py\\\"\")"
   ]
  },
  {
   "cell_type": "code",
   "execution_count": null,
   "id": "2a7b4d5d",
   "metadata": {},
   "outputs": [
    {
     "name": "stdout",
     "output_type": "stream",
     "text": [
      "print(\"Hello\\nWorld\")\n",
      "print(\"Hello\\nWorld\")\n"
     ]
    }
   ],
   "source": [
    "# 6008. [기초-출력] 출력하기08(py). print(\"Hello\\nWorld\") 출력하기\n",
    "print(\"print(\\\"Hello\" + str(\"\\\\\") + \"nWorld\\\")\")  # sol1\n",
    "print(\"print(\\\"Hello\\\\nWorld\\\")\")  # sol2"
   ]
  },
  {
   "cell_type": "code",
   "execution_count": null,
   "id": "0670c608",
   "metadata": {},
   "outputs": [
    {
     "name": "stdout",
     "output_type": "stream",
     "text": [
      "g\n",
      "r\n"
     ]
    }
   ],
   "source": [
    "# 6013. [기초-입출력] 문자 2개 입력받아 순서 바꿔 출력하기1(py)\n",
    "a = str(input())\n",
    "b = str(input())\n",
    "print(f\"{b}\\n{a}\")"
   ]
  },
  {
   "cell_type": "code",
   "execution_count": 14,
   "id": "e07ca494",
   "metadata": {},
   "outputs": [
    {
     "name": "stdout",
     "output_type": "stream",
     "text": [
      "0.1\n",
      "0.1\n",
      "0.1\n"
     ]
    }
   ],
   "source": [
    "# 6014. [기초-입출력] 실수 1개 입력받아 3번 출력하기(py)\n",
    "num = float(input())\n",
    "print(f\"{num}\\n{num}\\n{num}\")"
   ]
  },
  {
   "cell_type": "code",
   "execution_count": null,
   "id": "70b7f6bf",
   "metadata": {},
   "outputs": [
    {
     "name": "stdout",
     "output_type": "stream",
     "text": [
      "2\n",
      "5\n"
     ]
    }
   ],
   "source": [
    "# 6016. [기초-입출력] 문자 2개 입력받아 순서 바꿔 출력하기2(설명)(py)\n",
    "word = input()\n",
    "a, b = word.split()\n",
    "print(f\"{a}\\n{b}\")"
   ]
  },
  {
   "cell_type": "code",
   "execution_count": null,
   "id": "7a0946aa",
   "metadata": {},
   "outputs": [
    {
     "name": "stdout",
     "output_type": "stream",
     "text": [
      "hello hello hello\n"
     ]
    }
   ],
   "source": [
    "# 6017 : [기초-입출력] 문장 1개 입력받아 3번 출력하기(설명)(py)\n",
    "s = input()\n",
    "print(f\"{s} {s} {s}\")"
   ]
  },
  {
   "cell_type": "code",
   "execution_count": null,
   "id": "1e6679aa",
   "metadata": {},
   "outputs": [
    {
     "name": "stdout",
     "output_type": "stream",
     "text": [
      "3 :   30\n"
     ]
    }
   ],
   "source": [
    "# 6018. [기초-입출력] 시간 입력받아 그대로 출력하기(설명)(py)\n",
    "t = input()\n",
    "hour, minute = t.split(\":\")\n",
    "print(f\"{hour}: {minute}\")"
   ]
  },
  {
   "cell_type": "code",
   "execution_count": null,
   "id": "f57afc70",
   "metadata": {},
   "outputs": [
    {
     "name": "stdout",
     "output_type": "stream",
     "text": [
      "23-6-2026\n"
     ]
    }
   ],
   "source": [
    "# 6019. [기초-입출력] 연월일 입력받아 순서 바꿔 출력하기(py)\n",
    "year, month, date = input().split(\".\")\n",
    "print(f\"{date}-{month}-{year}\")"
   ]
  },
  {
   "cell_type": "code",
   "execution_count": null,
   "id": "7e31393e",
   "metadata": {},
   "outputs": [
    {
     "name": "stdout",
     "output_type": "stream",
     "text": [
      "981016999999\n"
     ]
    }
   ],
   "source": [
    "# 6020. [기초-입출력] 주민번호 입력받아 형태 바꿔 출력하기(py)\n",
    "f, b = input().split(\"-\")\n",
    "print(f+b)"
   ]
  },
  {
   "cell_type": "code",
   "execution_count": null,
   "id": "24122dde",
   "metadata": {},
   "outputs": [
    {
     "name": "stdout",
     "output_type": "stream",
     "text": [
      "m\n",
      "y\n",
      "m\n",
      "l\n",
      "o\n",
      "v\n",
      "e\n",
      "3\n",
      "4\n",
      "k\n",
      "e\n"
     ]
    }
   ],
   "source": [
    "# 6021 : [기초-입출력] 단어 1개 입력받아 나누어 출력하기(설명)(py)\n",
    "word = list(input())\n",
    "for w in word:\n",
    "    print(w)"
   ]
  },
  {
   "cell_type": "code",
   "execution_count": null,
   "id": "de5e97cd",
   "metadata": {},
   "outputs": [
    {
     "name": "stdout",
     "output_type": "stream",
     "text": [
      "98 10 16\n"
     ]
    }
   ],
   "source": [
    "# 6022. [기초-입출력] 연월일 입력받아 나누어 출력하기(설명)(py)\n",
    "word = input()\n",
    "print(f\"{word[0:2]} {word[2:4]} {word[4:]}\")"
   ]
  },
  {
   "cell_type": "code",
   "execution_count": null,
   "id": "e40813e7",
   "metadata": {},
   "outputs": [
    {
     "name": "stdout",
     "output_type": "stream",
     "text": [
      "12\n"
     ]
    }
   ],
   "source": [
    "# 6023 : [기초-입출력] 시분초 입력받아 분만 출력하기(py)\n",
    "h, m, sec = input().split(\":\")\n",
    "print(m)"
   ]
  },
  {
   "cell_type": "code",
   "execution_count": null,
   "id": "9425171d",
   "metadata": {},
   "outputs": [
    {
     "name": "stdout",
     "output_type": "stream",
     "text": [
      "0.5\n"
     ]
    }
   ],
   "source": [
    "# 6026 : [기초-값변환] 실수 2개 입력받아 합 계산하기(설명)(py)\n",
    "# 2개의 실수가 줄을 바꿔 입력됨\n",
    "f1 = float(input())\n",
    "f2 = float(input())\n",
    "print(f1+f2)"
   ]
  },
  {
   "cell_type": "code",
   "execution_count": null,
   "id": "9ddc2fee",
   "metadata": {},
   "outputs": [
    {
     "name": "stdout",
     "output_type": "stream",
     "text": [
      "FF\n"
     ]
    }
   ],
   "source": [
    "# 6028 : [기초-출력변환] 10진 정수 입력받아 16진수로 출력하기2(설명)(py)\n",
    "import copy\n",
    "\n",
    "def num_changer(n):\n",
    "    if n == 10:\n",
    "        n = \"a\"\n",
    "    elif n == 11:\n",
    "        n = \"b\"\n",
    "    elif n == 12:\n",
    "        n = \"c\"\n",
    "    elif n == 13:\n",
    "        n = \"d\"\n",
    "    elif n == 14:\n",
    "        n = \"e\"\n",
    "    elif n == 15:\n",
    "        n = \"f\"\n",
    "    else:\n",
    "        n = n\n",
    "    \n",
    "    if type(n) == str:\n",
    "        n = n.upper()\n",
    "    \n",
    "    return n\n",
    "\n",
    "a = int(input())\n",
    "pos_num = 1\n",
    "rep = True\n",
    "while rep:\n",
    "    if a < 16**pos_num:\n",
    "        rep = False\n",
    "    else:\n",
    "        pos_num += 1\n",
    "\n",
    "# print(pos_num)\n",
    "num_16 = \"\"\n",
    "a_left = a\n",
    "# a_left = a.copy()  # AttributeError: 'int' object has no attribute 'copy'\n",
    "\n",
    "for pn in range(pos_num, 0, -1):\n",
    "    # 일단 앞자리 숫자 찾기\n",
    "    num = a_left//(16**(pn-1))\n",
    "    \n",
    "    # 한 자리씩 추가\n",
    "    num_16_part = num_changer(num)\n",
    "    num_16 = num_16 + str(num_16_part)\n",
    "    \n",
    "    # 남은 값 없데이트\n",
    "    a_left -= num*(16**(pn-1))\n",
    "\n",
    "print(num_16)"
   ]
  },
  {
   "cell_type": "code",
   "execution_count": 78,
   "id": "ceb34792",
   "metadata": {},
   "outputs": [
    {
     "name": "stdout",
     "output_type": "stream",
     "text": [
      "17\n"
     ]
    }
   ],
   "source": [
    "# 6029 : [기초-값변환] 16진 정수 입력받아 8진수로 출력하기(설명)(py)\n",
    "a = input()\n",
    "n = int(a, 16)\n",
    "print('%o' %n)"
   ]
  },
  {
   "cell_type": "code",
   "execution_count": null,
   "id": "cd325f77",
   "metadata": {},
   "outputs": [
    {
     "name": "stdout",
     "output_type": "stream",
     "text": [
      "65\n"
     ]
    }
   ],
   "source": [
    "# 6030 : [기초-값변환] 영문자 1개 입력받아 10진수로 변환하기(설명)(py)\n",
    "n = ord(input())  # ord(c): 문자 c를 10진수로 변환한 값\n",
    "print(n)"
   ]
  },
  {
   "cell_type": "code",
   "execution_count": 80,
   "id": "b03d6ea7",
   "metadata": {},
   "outputs": [
    {
     "name": "stdout",
     "output_type": "stream",
     "text": [
      "A\n"
     ]
    }
   ],
   "source": [
    "# 6031 : [기초-값변환] 정수 입력받아 유니코드 문자로 변환하기(설명)(py)\n",
    "n = int(input())\n",
    "print(chr(n))"
   ]
  },
  {
   "cell_type": "code",
   "execution_count": null,
   "id": "c01deac5",
   "metadata": {},
   "outputs": [
    {
     "name": "stdout",
     "output_type": "stream",
     "text": [
      "b\n"
     ]
    }
   ],
   "source": [
    "# 6033 : [기초-산술연산] 문자 1개 입력받아 다음 문자 출력하기(설명)(py)\n",
    "n = int(ord(input()))\n",
    "n += 1\n",
    "print(chr(n))"
   ]
  },
  {
   "cell_type": "code",
   "execution_count": null,
   "id": "8c19c55c",
   "metadata": {},
   "outputs": [
    {
     "name": "stdout",
     "output_type": "stream",
     "text": [
      "246\n"
     ]
    }
   ],
   "source": [
    "# 6034 : [기초-산술연산] 정수 2개 입력받아 차 계산하기(설명)(py)\n",
    "n1, n2 = input().split()\n",
    "print(int(n1)-int(n2))"
   ]
  },
  {
   "cell_type": "code",
   "execution_count": null,
   "id": "af561b22",
   "metadata": {},
   "outputs": [
    {
     "name": "stdout",
     "output_type": "stream",
     "text": [
      "0.1\n"
     ]
    }
   ],
   "source": [
    "# 6035 : [기초-산술연산] 실수 2개 입력받아 곱 계산하기(설명)(py)\n",
    "n1, n2 = input().split()\n",
    "print(float(n1)*float(n2))"
   ]
  },
  {
   "cell_type": "code",
   "execution_count": null,
   "id": "7f561d4c",
   "metadata": {},
   "outputs": [
    {
     "name": "stdout",
     "output_type": "stream",
     "text": [
      "lovelovelove\n"
     ]
    }
   ],
   "source": [
    "# 6036 : [기초-산술연산] 단어 여러 번 출력하기(설명)(py)\n",
    "word, t = input().split()\n",
    "print(word*int(t))"
   ]
  },
  {
   "cell_type": "code",
   "execution_count": null,
   "id": "028d7013",
   "metadata": {},
   "outputs": [
    {
     "name": "stdout",
     "output_type": "stream",
     "text": [
      "I love youI love youI love you\n"
     ]
    }
   ],
   "source": [
    "# 6037 : [기초-산술연산] 문장 여러 번 출력하기(설명)(py)\n",
    "t = int(input())\n",
    "sent = str(input())\n",
    "print(sent*t)"
   ]
  },
  {
   "cell_type": "code",
   "execution_count": null,
   "id": "fa83f76d",
   "metadata": {},
   "outputs": [
    {
     "name": "stdout",
     "output_type": "stream",
     "text": [
      "1024\n"
     ]
    }
   ],
   "source": [
    "# 6038 : [기초-산술연산] 정수 2개 입력받아 거듭제곱 계산하기(설명)(py)\n",
    "a, b = input().split()\n",
    "print(int(a)**int(b))"
   ]
  },
  {
   "cell_type": "code",
   "execution_count": null,
   "id": "11dff88d",
   "metadata": {},
   "outputs": [
    {
     "name": "stdout",
     "output_type": "stream",
     "text": [
      "16.0\n"
     ]
    }
   ],
   "source": [
    "# 6039 : [기초-산술연산] 실수 2개 입력받아 거듭제곱 계산하기(py)\n",
    "a, b = input().split()\n",
    "print(float(a)**float(b))"
   ]
  },
  {
   "cell_type": "code",
   "execution_count": null,
   "id": "7f3a979f",
   "metadata": {},
   "outputs": [
    {
     "name": "stdout",
     "output_type": "stream",
     "text": [
      "3\n"
     ]
    }
   ],
   "source": [
    "# 6040 : [기초-산술연산] 정수 2개 입력받아 나눈 몫 계산하기(설명)(py)\n",
    "a, b = input().split()\n",
    "quo = int(a)//int(b)\n",
    "print(quo)"
   ]
  },
  {
   "cell_type": "code",
   "execution_count": 95,
   "id": "682d4246",
   "metadata": {},
   "outputs": [
    {
     "name": "stdout",
     "output_type": "stream",
     "text": [
      "1\n"
     ]
    }
   ],
   "source": [
    "# 6041 : [기초-산술연산] 정수 2개 입력받아 나눈 나머지 계산하기(설명)(py)\n",
    "a, b = input().split()\n",
    "rem = int(a)%int(b)\n",
    "print(rem)"
   ]
  },
  {
   "cell_type": "code",
   "execution_count": null,
   "id": "e81a1c94",
   "metadata": {},
   "outputs": [
    {
     "name": "stdout",
     "output_type": "stream",
     "text": [
      "3.15\n",
      "3.15\n"
     ]
    }
   ],
   "source": [
    "# 6042 : [기초-값변환] 실수 1개 입력받아 소숫점이하 자리 변환하기(설명)(py)\n",
    "f = float(input())\n",
    "result = round(f, 2)\n",
    "print(result)\n",
    "# result2 = format(f, \".2f\")\n",
    "# print(result2)"
   ]
  },
  {
   "cell_type": "code",
   "execution_count": 98,
   "id": "376de57a",
   "metadata": {},
   "outputs": [
    {
     "name": "stdout",
     "output_type": "stream",
     "text": [
      "25.500\n"
     ]
    }
   ],
   "source": [
    "# 6043 : [기초-산술연산] 실수 2개 입력받아 나눈 결과 계산하기(py)\n",
    "f1, f2 = input().split()\n",
    "result = format(float(f1)/float(f2) ,\".3f\")\n",
    "print(result)"
   ]
  },
  {
   "cell_type": "code",
   "execution_count": 100,
   "id": "314e8399",
   "metadata": {},
   "outputs": [
    {
     "name": "stdout",
     "output_type": "stream",
     "text": [
      "13\n",
      "7\n",
      "30\n",
      "3\n",
      "1\n",
      "3.33\n"
     ]
    }
   ],
   "source": [
    "# 6044 : [기초-산술연산] 정수 2개 입력받아 자동 계산하기(py)\n",
    "a, b = input().split()\n",
    "print(int(a)+int(b))\n",
    "print(int(a)-int(b))\n",
    "print(int(a)*int(b))\n",
    "print(int(a)//int(b))\n",
    "print(int(a)%int(b))\n",
    "print(format(int(a)/int(b), \".2f\"))"
   ]
  },
  {
   "cell_type": "code",
   "execution_count": null,
   "id": "5ea58db4",
   "metadata": {},
   "outputs": [
    {
     "name": "stdout",
     "output_type": "stream",
     "text": [
      "15 5.00\n"
     ]
    }
   ],
   "source": [
    "# 6045 : [기초-산술연산] 정수 3개 입력받아 합과 평균 출력하기(설명)(py)\n",
    "a, b, c = input().split()\n",
    "all_sum = int(a)+int(b)+int(c)\n",
    "result = format((all_sum/3), \".2f\")\n",
    "print(f\"{all_sum} {result}\")"
   ]
  },
  {
   "cell_type": "code",
   "execution_count": null,
   "id": "52c8bb93",
   "metadata": {},
   "outputs": [
    {
     "name": "stdout",
     "output_type": "stream",
     "text": [
      "30\n"
     ]
    }
   ],
   "source": [
    "# 6046 : [기초-비트시프트연산] 정수 1개 입력받아 2배 곱해 출력하기(설명)(py)\n",
    "n = int(input())\n",
    "print(n<<1) # n을 2배 한 값인 2*n 이 출력된다. 비트시프트\n",
    "# python에서 실수 값에 대한 비트시프트 연산은 허용되지 않고 오류가 발생한다."
   ]
  },
  {
   "cell_type": "code",
   "execution_count": null,
   "id": "08faee11",
   "metadata": {},
   "outputs": [
    {
     "name": "stdout",
     "output_type": "stream",
     "text": [
      "16\n"
     ]
    }
   ],
   "source": [
    "# 6047 : [기초-비트시프트연산] 2의 거듭제곱 배로 곱해 출력하기(설명)(py)\n",
    "a, b = input().split()\n",
    "print(int(a)*(2**int(b)))"
   ]
  },
  {
   "cell_type": "code",
   "execution_count": 109,
   "id": "d75c5952",
   "metadata": {},
   "outputs": [
    {
     "name": "stdout",
     "output_type": "stream",
     "text": [
      "False\n"
     ]
    }
   ],
   "source": [
    "# 6048 : [기초-비교연산] 정수 2개 입력받아 비교하기1(설명)(py)\n",
    "a, b = input().split()\n",
    "res = True if int(a) < int(b) else False    \n",
    "print(res)"
   ]
  },
  {
   "cell_type": "code",
   "execution_count": 111,
   "id": "f101ae42",
   "metadata": {},
   "outputs": [
    {
     "name": "stdout",
     "output_type": "stream",
     "text": [
      "False\n"
     ]
    }
   ],
   "source": [
    "# 6049 : [기초-비교연산] 정수 2개 입력받아 비교하기2(설명)(py)\n",
    "a, b = input().split()\n",
    "res = True if int(a) == int(b) else False\n",
    "print(res)"
   ]
  },
  {
   "cell_type": "code",
   "execution_count": 112,
   "id": "37c415e3",
   "metadata": {},
   "outputs": [
    {
     "name": "stdout",
     "output_type": "stream",
     "text": [
      "False\n"
     ]
    }
   ],
   "source": [
    "# 6050 : [기초-비교연산] 정수 2개 입력받아 비교하기3(설명)(py)\n",
    "a, b = input().split()\n",
    "res = True if int(b) >= int(a) else False\n",
    "print(res) "
   ]
  },
  {
   "cell_type": "code",
   "execution_count": null,
   "id": "8e39aa1d",
   "metadata": {},
   "outputs": [],
   "source": [
    "# 6051 : [기초-비교연산] 정수 2개 입력받아 비교하기4(설명)(py)\n",
    "a, b = input().split()\n",
    "res = True if int(a) != int(b) else False\n",
    "print(res)"
   ]
  },
  {
   "cell_type": "code",
   "execution_count": null,
   "id": "dac4185f",
   "metadata": {},
   "outputs": [
    {
     "name": "stdout",
     "output_type": "stream",
     "text": [
      "False\n"
     ]
    }
   ],
   "source": [
    "# 6052 : [기초-논리연산] 정수 입력받아 참 거짓 평가하기(설명)(py)\n",
    "n = int(input())\n",
    "res = False if n==0 else True\n",
    "print(res)"
   ]
  },
  {
   "cell_type": "code",
   "execution_count": null,
   "id": "b738db07",
   "metadata": {},
   "outputs": [
    {
     "name": "stdout",
     "output_type": "stream",
     "text": [
      "False\n"
     ]
    }
   ],
   "source": [
    "# 6053 : [기초-논리연산] 참 거짓 바꾸기(설명)(py)\n",
    "n = int(input())\n",
    "res = True if bool(n) == False else False\n",
    "print(res)"
   ]
  },
  {
   "cell_type": "code",
   "execution_count": 121,
   "id": "eab6ad90",
   "metadata": {},
   "outputs": [
    {
     "name": "stdout",
     "output_type": "stream",
     "text": [
      "False\n"
     ]
    }
   ],
   "source": [
    "# 6054 : [기초-논리연산] 둘 다 참일 경우만 참 출력하기(설명)(py)\n",
    "a, b = input().split()\n",
    "res = True if (bool(int(a))==True and bool(int(b))==True) else False\n",
    "print(res)"
   ]
  },
  {
   "cell_type": "code",
   "execution_count": 124,
   "id": "d507cb93",
   "metadata": {},
   "outputs": [
    {
     "name": "stdout",
     "output_type": "stream",
     "text": [
      "False\n"
     ]
    }
   ],
   "source": [
    "# 6055 : [기초-논리연산] 하나라도 참이면 참 출력하기(설명)(py)\n",
    "a, b = input().split()\n",
    "res = True if (bool(int(a))== True or bool(int(b))== True) else False\n",
    "print(res)"
   ]
  },
  {
   "cell_type": "code",
   "execution_count": 127,
   "id": "5cfc9ff6",
   "metadata": {},
   "outputs": [
    {
     "name": "stdout",
     "output_type": "stream",
     "text": [
      "False\n"
     ]
    }
   ],
   "source": [
    "# 6056 : [기초-논리연산] 참/거짓이 서로 다를 때에만 참 출력하기(설명)(py)\n",
    "a, b = input().split()\n",
    "res = True if (bool(int(a)) != bool(int(b))) else False\n",
    "print(res)"
   ]
  },
  {
   "cell_type": "code",
   "execution_count": 130,
   "id": "07e7ae19",
   "metadata": {},
   "outputs": [
    {
     "name": "stdout",
     "output_type": "stream",
     "text": [
      "-3\n"
     ]
    }
   ],
   "source": [
    "# 6059 : [기초-비트단위논리연산] 비트단위로 NOT 하여 출력하기(설명)(py)\n",
    "n = int(input())\n",
    "res = ~n\n",
    "print(res)"
   ]
  },
  {
   "cell_type": "code",
   "execution_count": null,
   "id": "29f762a1",
   "metadata": {},
   "outputs": [
    {
     "name": "stdout",
     "output_type": "stream",
     "text": [
      "1\n"
     ]
    }
   ],
   "source": [
    "# 6060 : [기초-비트단위논리연산] 비트단위로 AND 하여 출력하기(설명)(py) \n",
    "a, b = input().split()  # 3, 5\n",
    "res = int(a)&int(b)  # 011 & 101\n",
    "print(res)  # 001"
   ]
  },
  {
   "cell_type": "code",
   "execution_count": null,
   "id": "dbbd43f5",
   "metadata": {},
   "outputs": [
    {
     "name": "stdout",
     "output_type": "stream",
     "text": [
      "7\n"
     ]
    }
   ],
   "source": [
    "# 6061 : [기초-비트단위논리연산] 비트단위로 OR 하여 출력하기(설명)(py)\n",
    "a, b = input().split()  # 3, 5\n",
    "res = int(a) | int(b)  # 011 | 101\n",
    "print(res)  # 111"
   ]
  },
  {
   "cell_type": "code",
   "execution_count": 133,
   "id": "fd1d062a",
   "metadata": {},
   "outputs": [
    {
     "name": "stdout",
     "output_type": "stream",
     "text": [
      "6\n"
     ]
    }
   ],
   "source": [
    "# 6062 : [기초-비트단위논리연산] 비트단위로 XOR 하여 출력하기(설명)(py)\n",
    "a, b = input().split()\n",
    "res = int(a) ^ int(b)\n",
    "print(res)  # 110"
   ]
  },
  {
   "cell_type": "code",
   "execution_count": null,
   "id": "d166c66f",
   "metadata": {},
   "outputs": [
    {
     "name": "stdout",
     "output_type": "stream",
     "text": [
      "542\n"
     ]
    }
   ],
   "source": [
    "# 6063 : [기초-3항연산] 정수 2개 입력받아 큰 값 출력하기(설명)(py)\n",
    "a, b = input().split()\n",
    "num_max = int(a) if int(a) > int(b) else int(b)\n",
    "print(num_max)"
   ]
  },
  {
   "cell_type": "code",
   "execution_count": null,
   "id": "7d66beb8",
   "metadata": {},
   "outputs": [
    {
     "name": "stdout",
     "output_type": "stream",
     "text": [
      "-49\n",
      "-49\n"
     ]
    }
   ],
   "source": [
    "# 6064 : [기초-3항연산] 정수 3개 입력받아 가장 작은 값 출력하기(설명)(py)\n",
    "a, b, c = input().split()  # 3 -3 - 49\n",
    "num_min_1 = int(a) if int(a) < int(b) else int(b)\n",
    "num_min = num_min_1 if num_min_1 < int(c) else int(c)\n",
    "print(num_min)\n",
    "\n",
    "num_minimum = ((int(a) if int(a)<int(b) else int(b)) < int(c)) if ((int(a) if int(a)<int(b) else int(b)) < int(c)) else int(c)\n",
    "# num_minimum = (a if a<b else b) if ((a if a<b else b) < c) else c  # int를 안 해서 오류가 남!\n",
    "print(num_minimum)"
   ]
  },
  {
   "cell_type": "code",
   "execution_count": null,
   "id": "9057ef78",
   "metadata": {},
   "outputs": [
    {
     "name": "stdout",
     "output_type": "stream",
     "text": [
      "4\n"
     ]
    }
   ],
   "source": [
    "# 6065 : [기초-조건/선택실행구조] 정수 3개 입력받아 짝수만 출력하기(설명)(py)\n",
    "a, b, c = input().split()\n",
    "if int(a)%2==0:\n",
    "    print(a)\n",
    "if int(b)%2==0:\n",
    "    print(b)\n",
    "if int(c)%2==0:\n",
    "    print(c)"
   ]
  },
  {
   "cell_type": "code",
   "execution_count": 146,
   "id": "bab6f07e",
   "metadata": {},
   "outputs": [
    {
     "name": "stdout",
     "output_type": "stream",
     "text": [
      "even\n",
      "odd\n",
      "odd\n"
     ]
    }
   ],
   "source": [
    "# 6066 : [기초-조건/선택실행구조] 정수 3개 입력받아 짝/홀 출력하기(설명)(py)\n",
    "def check(n):\n",
    "    n = int(n)\n",
    "    if n%2==0:\n",
    "        print(\"even\")\n",
    "    else:\n",
    "        print(\"odd\")\n",
    "\n",
    "a, b, c = input().split()\n",
    "check(a)\n",
    "check(b)\n",
    "check(c)"
   ]
  },
  {
   "cell_type": "code",
   "execution_count": 147,
   "id": "9bdec6d2",
   "metadata": {},
   "outputs": [
    {
     "name": "stdout",
     "output_type": "stream",
     "text": [
      "A\n"
     ]
    }
   ],
   "source": [
    "# 6067 : [기초-조건/선택실행구조] 정수 1개 입력받아 분류하기(설명)(py)\n",
    "def type_checker(n):\n",
    "    n = int(n)\n",
    "    if n < 0 and (n%2==0):\n",
    "        print(\"A\")\n",
    "    elif n < 0 and (n%2==1):\n",
    "        print(\"B\")\n",
    "    elif n > 0 and (n%2==0):\n",
    "        print(\"C\")\n",
    "    else:\n",
    "        print(\"D\")\n",
    "    \n",
    "num = int(input())\n",
    "type_checker(num)"
   ]
  },
  {
   "cell_type": "code",
   "execution_count": 148,
   "id": "386ec297",
   "metadata": {},
   "outputs": [
    {
     "name": "stdout",
     "output_type": "stream",
     "text": [
      "A\n"
     ]
    }
   ],
   "source": [
    "# 6068 : [기초-조건/선택실행구조] 점수 입력받아 평가 출력하기(설명)(py)\n",
    "def score(n):\n",
    "    if n >= 90:\n",
    "        print(\"A\")\n",
    "    elif n >= 70:\n",
    "        print(\"B\")\n",
    "    elif n >= 40:\n",
    "        print(\"C\")\n",
    "    else:\n",
    "        print(\"D\")\n",
    "\n",
    "s = int(input())\n",
    "score(s)"
   ]
  },
  {
   "cell_type": "code",
   "execution_count": 151,
   "id": "fc4d6df5",
   "metadata": {},
   "outputs": [
    {
     "name": "stdout",
     "output_type": "stream",
     "text": [
      "good!!\n"
     ]
    }
   ],
   "source": [
    "# 6069 : [기초-조건/선택실행구조] 평가 입력받아 다르게 출력하기(py)\n",
    "def explain(grade):\n",
    "    if grade == \"A\":\n",
    "        print(\"best!!!\")\n",
    "    elif grade == \"B\":\n",
    "        print(\"good!!\")\n",
    "    elif grade == \"C\":\n",
    "        print(\"run!\")\n",
    "    elif grade == \"D\":\n",
    "        print(\"slowly~\")\n",
    "    else:\n",
    "        print(\"what?\")\n",
    "\n",
    "g = input()\n",
    "explain(g)"
   ]
  },
  {
   "cell_type": "code",
   "execution_count": null,
   "id": "353d13dc",
   "metadata": {},
   "outputs": [
    {
     "name": "stdout",
     "output_type": "stream",
     "text": [
      "summer\n"
     ]
    }
   ],
   "source": [
    "# 6070 : [기초-조건/선택실행구조] 월 입력받아 계절 출력하기(설명)(py) \n",
    "def seasons(m):\n",
    "    if m in [12, 1, 2]:\n",
    "        print(\"winter\")\n",
    "    elif m in [3,4,5]:\n",
    "        print(\"spring\")\n",
    "    elif m in list(range(6,9)):\n",
    "        print(\"summer\")\n",
    "    else:\n",
    "        print(\"fall\")\n",
    "\n",
    "month = int(input())\n",
    "seasons(month)"
   ]
  },
  {
   "cell_type": "code",
   "execution_count": 158,
   "id": "c99ee223",
   "metadata": {},
   "outputs": [
    {
     "name": "stdout",
     "output_type": "stream",
     "text": [
      "2\n",
      "3\n",
      "7\n"
     ]
    }
   ],
   "source": [
    "# 6071 : [기초-반복실행구조] 0 입력될 때까지 무한 출력하기(설명)(py)\n",
    "contin = True\n",
    "while contin:\n",
    "    n = int(input())\n",
    "    if n == 0:\n",
    "        contin = False\n",
    "        break\n",
    "    print(n)"
   ]
  },
  {
   "cell_type": "code",
   "execution_count": null,
   "id": "6499e679",
   "metadata": {},
   "outputs": [
    {
     "name": "stdout",
     "output_type": "stream",
     "text": [
      "5\n",
      "4\n",
      "3\n",
      "2\n",
      "1\n"
     ]
    }
   ],
   "source": [
    "# 6072 : [기초-반복실행구조] 정수 1개 입력받아 카운트다운 출력하기1(설명)(py)\n",
    "num = int(input())\n",
    "contin = True\n",
    "while contin:\n",
    "    if num == 1:\n",
    "        contin = False\n",
    "    print(num)\n",
    "    num -=1"
   ]
  },
  {
   "cell_type": "code",
   "execution_count": 160,
   "id": "4ea31e29",
   "metadata": {},
   "outputs": [
    {
     "name": "stdout",
     "output_type": "stream",
     "text": [
      "4\n",
      "3\n",
      "2\n",
      "1\n",
      "0\n"
     ]
    }
   ],
   "source": [
    "# 6073 : [기초-반복실행구조] 정수 1개 입력받아 카운트다운 출력하기2(py)\n",
    "num = int(input())\n",
    "while num > 0:\n",
    "    print(num-1)\n",
    "    num -=1"
   ]
  },
  {
   "cell_type": "code",
   "execution_count": 165,
   "id": "c1a9f5b3",
   "metadata": {},
   "outputs": [
    {
     "name": "stdout",
     "output_type": "stream",
     "text": [
      "a b c d e f g \n",
      "a b c d e f g h i j k l m n o p "
     ]
    }
   ],
   "source": [
    "# 6074 : [기초-반복실행구조] 문자 1개 입력받아 알파벳 출력하기(설명)(py)\n",
    "end_word = input()\n",
    "end_num = ord(end_word)\n",
    "start_num = ord('a')\n",
    "string = \"\"\n",
    "while (end_num - start_num) >= 0:\n",
    "    string = string + chr(start_num) + \" \"\n",
    "    start_num +=1\n",
    "print(string)\n",
    "\n",
    "c = ord(input())\n",
    "t = ord('a')\n",
    "while t <= c:\n",
    "    print(chr(t), end=' ')\n",
    "    t += 1"
   ]
  },
  {
   "cell_type": "code",
   "execution_count": null,
   "id": "a3a3f287",
   "metadata": {},
   "outputs": [
    {
     "name": "stdout",
     "output_type": "stream",
     "text": [
      "0\n",
      "1\n",
      "2\n",
      "3\n",
      "4\n"
     ]
    }
   ],
   "source": [
    "# 6075 : [기초-반복실행구조] 정수 1개 입력받아 그 수까지 출력하기1(py)\n",
    "end_num = int(input())\n",
    "n = 0\n",
    "while n <= end_num:\n",
    "    print(n)\n",
    "    n += 1 "
   ]
  },
  {
   "cell_type": "code",
   "execution_count": 172,
   "id": "71aa1d62",
   "metadata": {},
   "outputs": [
    {
     "name": "stdout",
     "output_type": "stream",
     "text": [
      "0\n",
      "1\n",
      "2\n",
      "3\n",
      "4\n",
      "5\n"
     ]
    }
   ],
   "source": [
    "# 6076 : [기초-반복실행구조] 정수 1개 입력받아 그 수까지 출력하기2(설명)(py)\n",
    "n = int(input())\n",
    "for k in range(n+1):\n",
    "    print(k)"
   ]
  },
  {
   "cell_type": "code",
   "execution_count": 174,
   "id": "1468b7ba",
   "metadata": {},
   "outputs": [
    {
     "name": "stdout",
     "output_type": "stream",
     "text": [
      "30\n"
     ]
    }
   ],
   "source": [
    "# 6077 : [기초-종합] 짝수 합 구하기(설명)(py)\n",
    "n = int(input())\n",
    "k = n//2\n",
    "print(k*(k+1))"
   ]
  },
  {
   "cell_type": "code",
   "execution_count": 175,
   "id": "7ed6df33",
   "metadata": {},
   "outputs": [
    {
     "name": "stdout",
     "output_type": "stream",
     "text": [
      "e\n",
      "r\n",
      "t\n",
      "q\n"
     ]
    }
   ],
   "source": [
    "# 6078 : [기초-종합] 원하는 문자가 입력될 때까지 반복 출력하기(py)\n",
    "contin = True\n",
    "while contin:\n",
    "    word = input()\n",
    "    print(word)\n",
    "    if ord(word) == ord('q'):\n",
    "        contin = False"
   ]
  },
  {
   "cell_type": "code",
   "execution_count": 178,
   "id": "8d45eff5",
   "metadata": {},
   "outputs": [
    {
     "name": "stdout",
     "output_type": "stream",
     "text": [
      "21\n"
     ]
    }
   ],
   "source": [
    "# 6079 : [기초-종합] 언제까지 더해야 할까?(py)\n",
    "num = int(input())\n",
    "contin = True\n",
    "n = 1\n",
    "while contin:\n",
    "    if n*(n+1)/2 >= num:\n",
    "        contin = False\n",
    "    else:\n",
    "        n +=1\n",
    "\n",
    "print(n)"
   ]
  },
  {
   "cell_type": "code",
   "execution_count": 180,
   "id": "bfa7ef6d",
   "metadata": {},
   "outputs": [
    {
     "name": "stdout",
     "output_type": "stream",
     "text": [
      "1 1\n",
      "1 2\n",
      "1 3\n",
      "2 1\n",
      "2 2\n",
      "2 3\n"
     ]
    }
   ],
   "source": [
    "# 6080 : [기초-종합] 주사위 2개 던지기(설명)(py)\n",
    "a, b = input().split()\n",
    "for i in range(1, int(a)+1):\n",
    "    for k in range(1, int(b)+1):\n",
    "        print(f\"{i} {k}\")"
   ]
  },
  {
   "cell_type": "code",
   "execution_count": 183,
   "id": "ef753b27",
   "metadata": {},
   "outputs": [
    {
     "name": "stdout",
     "output_type": "stream",
     "text": [
      "B*1=B\n",
      "B*2=16\n",
      "B*3=21\n",
      "B*4=2C\n",
      "B*5=37\n",
      "B*6=42\n",
      "B*7=4D\n",
      "B*8=58\n",
      "B*9=63\n",
      "B*A=6E\n",
      "B*B=79\n",
      "B*C=84\n",
      "B*D=8F\n",
      "B*E=9A\n",
      "B*F=A5\n"
     ]
    }
   ],
   "source": [
    "# 6081 : [기초-종합] 16진수 구구단 출력하기(py)\n",
    "n = input()\n",
    "n = int(n, 16)\n",
    "for i in range(1, 16):\n",
    "    print('%X'%n+'*%X'%i+'=%X'%(n*i))"
   ]
  },
  {
   "cell_type": "code",
   "execution_count": null,
   "id": "f8121242",
   "metadata": {},
   "outputs": [
    {
     "name": "stdout",
     "output_type": "stream",
     "text": [
      "1 2 X 4 5 X 7 8 X 10 11 12 X 14 15 X 17 18 X 20 21 22 X 24 25 X 27 28 X X X X XX X X XX X X XX 40 \n"
     ]
    }
   ],
   "source": [
    "# 6082 : [기초-종합] 3 6 9 게임의 왕이 되자(설명)(py)\n",
    "n = int(input())\n",
    "s = \"\"\n",
    "for i in range(1, n+1):\n",
    "    check_num = list(str(i))\n",
    "    n3 = check_num.count('3')  # count() 리스트의 특정 원소 개수를 구하는 함수\n",
    "    n6 = check_num.count('6')\n",
    "    n9 = check_num.count('9')\n",
    "    total_n = int(n3) + int(n6) + int(n9) \n",
    "    if total_n > 0:\n",
    "        p = \"X\"*total_n\n",
    "    else:\n",
    "        p = str(i)\n",
    "    s = s + p + \" \"\n",
    "print(s)"
   ]
  },
  {
   "cell_type": "code",
   "execution_count": 195,
   "id": "57c96ade",
   "metadata": {},
   "outputs": [
    {
     "name": "stdout",
     "output_type": "stream",
     "text": [
      "0 0 0\n",
      "0 0 1\n",
      "0 1 0\n",
      "0 1 1\n",
      "1 0 0\n",
      "1 0 1\n",
      "1 1 0\n",
      "1 1 1\n",
      "8\n"
     ]
    }
   ],
   "source": [
    "# 6083 : [기초-종합] 빛 섞어 색 만들기(설명)(py)\n",
    "r, g, b = input().split()\n",
    "total = 0\n",
    "for m in range(0, int(r)):\n",
    "    for n in range(0, int(g)):\n",
    "        for o in range(0, int(b)):\n",
    "            print(f\"{m} {n} {o}\")\n",
    "            total += 1\n",
    "print(total)"
   ]
  },
  {
   "cell_type": "code",
   "execution_count": 197,
   "id": "e9a73255",
   "metadata": {},
   "outputs": [
    {
     "name": "stdout",
     "output_type": "stream",
     "text": [
      "1.7 MB\n"
     ]
    }
   ],
   "source": [
    "# 6084 : [기초-종합] 소리 파일 저장용량 계산하기(py)\n",
    "h, b, c, s = input().split()\n",
    "total = int(h) * int(b) * int(c) * int(s) / (8*1024*1024)\n",
    "total = format(total, \".1f\")\n",
    "print(str(total)+ \" MB\")"
   ]
  },
  {
   "cell_type": "code",
   "execution_count": 1,
   "id": "72d4a360",
   "metadata": {},
   "outputs": [
    {
     "name": "stdout",
     "output_type": "stream",
     "text": [
      "2.25 MB\n"
     ]
    }
   ],
   "source": [
    "# 6085 : [기초-종합] 그림 파일 저장용량 계산하기(py)\n",
    "w, h, b = input().split()\n",
    "total = int(w)*int(h)*int(b)/(8*1024*1024)\n",
    "total = format(total, \".2f\")\n",
    "print(str(total)+\" MB\")"
   ]
  },
  {
   "cell_type": "code",
   "execution_count": 4,
   "id": "be1d2612",
   "metadata": {},
   "outputs": [
    {
     "name": "stdout",
     "output_type": "stream",
     "text": [
      "55\n"
     ]
    }
   ],
   "source": [
    "# 6086 : [기초-종합] 거기까지! 이제 그만~(설명)(py)\n",
    "num = int(input())\n",
    "under = True\n",
    "n = 1\n",
    "total = 0\n",
    "while under:\n",
    "    if total >= num:\n",
    "        under = False\n",
    "        break\n",
    "    total += n\n",
    "    n += 1\n",
    "print(total)"
   ]
  },
  {
   "cell_type": "code",
   "execution_count": 7,
   "id": "7b937e3f",
   "metadata": {},
   "outputs": [
    {
     "name": "stdout",
     "output_type": "stream",
     "text": [
      "1 2 4 5 7 8 10 "
     ]
    }
   ],
   "source": [
    "# 6087 : [기초-종합] 3의 배수는 통과(설명)(py)\n",
    "num = int(input())\n",
    "start_num = 1\n",
    "while start_num <= num:\n",
    "    if start_num % 3 == 0:\n",
    "        pass\n",
    "    else:\n",
    "        print(start_num, end=\" \")\n",
    "    start_num += 1"
   ]
  },
  {
   "cell_type": "code",
   "execution_count": 8,
   "id": "2b0b9f52",
   "metadata": {},
   "outputs": [
    {
     "name": "stdout",
     "output_type": "stream",
     "text": [
      "12\n"
     ]
    }
   ],
   "source": [
    "# 6088 : [기초-종합] 수 나열하기1(py)\n",
    "a, d, n = input().split()\n",
    "print((int(n)-1)*int(d)+int(a))"
   ]
  },
  {
   "cell_type": "code",
   "execution_count": null,
   "id": "90025484",
   "metadata": {},
   "outputs": [
    {
     "name": "stdout",
     "output_type": "stream",
     "text": [
      "1458\n"
     ]
    }
   ],
   "source": [
    "# 6089 : [기초-종합] 수 나열하기2(py)\n",
    "a, r, n = input().split()\n",
    "print(int(r)**(int(n)-1)*int(a))"
   ]
  },
  {
   "cell_type": "code",
   "execution_count": 11,
   "id": "cc29c2ad",
   "metadata": {},
   "outputs": [
    {
     "name": "stdout",
     "output_type": "stream",
     "text": [
      "-85\n"
     ]
    }
   ],
   "source": [
    "# 6090 : [기초-종합] 수 나열하기3(py)\n",
    "a, m, d, n = input().split()\n",
    "start_num = int(a)\n",
    "for t in range(int(n)-1):\n",
    "    start_num = start_num*int(m) + int(d)\n",
    "print(start_num)"
   ]
  },
  {
   "cell_type": "code",
   "execution_count": 14,
   "id": "5ae15822",
   "metadata": {},
   "outputs": [
    {
     "name": "stdout",
     "output_type": "stream",
     "text": [
      "120\n"
     ]
    }
   ],
   "source": [
    "# 6091 : [기초-종합] 함께 문제 푸는 날(설명)(py)\n",
    "a, b, c = input().split()\n",
    "num_max = (int(a) if (int(a) >= int(b)) else int(b)) if (int(a) if (int(a) >= int(b)) else int(b)) >= int(c) else int(c)\n",
    "\n",
    "quot = 1\n",
    "while True:\n",
    "    num = num_max*quot\n",
    "    if (num%int(a)==0) and (num%int(b)==0) and (num%int(c)==0):\n",
    "        break\n",
    "    quot += 1\n",
    "print(num)"
   ]
  },
  {
   "cell_type": "code",
   "execution_count": null,
   "id": "a11497ba",
   "metadata": {},
   "outputs": [
    {
     "name": "stdout",
     "output_type": "stream",
     "text": [
      "1 0 2 0 2 0 0 0 0 0 0 0 0 0 0 0 0 0 0 0 0 0 0 "
     ]
    }
   ],
   "source": [
    "# 6092 : [기초-리스트] 이상한 출석 번호 부르기1(설명)(py)\n",
    "call_time = int(input())\n",
    "call_num = list(input().split())\n",
    "# print(call_num) # ['1', '5', '2']\n",
    "\n",
    "# for i in range(1,24):\n",
    "#     print(call_num.count(str(i)), end=\" \")\n",
    "    \n",
    "# count()함수를 사용하지 않는 경우\n",
    "call_dict = {n: 0 for n in range(1,24)}\n",
    "# print(call_dict)\n",
    "for i in call_num:\n",
    "    call_dict[int(i)] += 1\n",
    "\n",
    "# 출력\n",
    "for v in call_dict.values():\n",
    "    print(v, end=' ')"
   ]
  },
  {
   "cell_type": "code",
   "execution_count": 32,
   "id": "c60e9237",
   "metadata": {},
   "outputs": [
    {
     "name": "stdout",
     "output_type": "stream",
     "text": [
      "5 4 3 2 1 "
     ]
    }
   ],
   "source": [
    "# 6093 : [기초-리스트] 이상한 출석 번호 부르기2(py)\n",
    "call_time = int(input())\n",
    "call_num = list(input().split())\n",
    "for i in range(1, call_time+1):\n",
    "    print(int(call_num[-i]), end=' ')"
   ]
  },
  {
   "cell_type": "code",
   "execution_count": 36,
   "id": "3f96d984",
   "metadata": {},
   "outputs": [
    {
     "name": "stdout",
     "output_type": "stream",
     "text": [
      "-9\n"
     ]
    }
   ],
   "source": [
    "# 6094 : [기초-리스트] 이상한 출석 번호 부르기3(py)\n",
    "call_time = int(input())\n",
    "call_num = list(input().split())\n",
    "min_num = int(call_num[0])\n",
    "for n in call_num:\n",
    "    if int(n) < min_num:\n",
    "        min_num = int(n)\n",
    "print(min_num)\n"
   ]
  },
  {
   "cell_type": "code",
   "execution_count": null,
   "id": "7087eb98",
   "metadata": {},
   "outputs": [
    {
     "name": "stdout",
     "output_type": "stream",
     "text": [
      "{0: [1, 1], 1: [5, 5], 2: [19, 18]}\n",
      "1 0 0 0 0 0 0 0 0 0 0 0 0 0 0 0 0 0 0 \n",
      "0 0 0 0 0 0 0 0 0 0 0 0 0 0 0 0 0 0 0 \n",
      "0 0 0 0 0 0 0 0 0 0 0 0 0 0 0 0 0 0 0 \n",
      "0 0 0 0 0 0 0 0 0 0 0 0 0 0 0 0 0 0 0 \n",
      "0 0 0 0 1 0 0 0 0 0 0 0 0 0 0 0 0 0 0 \n",
      "0 0 0 0 0 0 0 0 0 0 0 0 0 0 0 0 0 0 0 \n",
      "0 0 0 0 0 0 0 0 0 0 0 0 0 0 0 0 0 0 0 \n",
      "0 0 0 0 0 0 0 0 0 0 0 0 0 0 0 0 0 0 0 \n",
      "0 0 0 0 0 0 0 0 0 0 0 0 0 0 0 0 0 0 0 \n",
      "0 0 0 0 0 0 0 0 0 0 0 0 0 0 0 0 0 0 0 \n",
      "0 0 0 0 0 0 0 0 0 0 0 0 0 0 0 0 0 0 0 \n",
      "0 0 0 0 0 0 0 0 0 0 0 0 0 0 0 0 0 0 0 \n",
      "0 0 0 0 0 0 0 0 0 0 0 0 0 0 0 0 0 0 0 \n",
      "0 0 0 0 0 0 0 0 0 0 0 0 0 0 0 0 0 0 0 \n",
      "0 0 0 0 0 0 0 0 0 0 0 0 0 0 0 0 0 0 0 \n",
      "0 0 0 0 0 0 0 0 0 0 0 0 0 0 0 0 0 0 0 \n",
      "0 0 0 0 0 0 0 0 0 0 0 0 0 0 0 0 0 0 0 \n",
      "0 0 0 0 0 0 0 0 0 0 0 0 0 0 0 0 0 0 0 \n",
      "0 0 0 0 0 0 0 0 0 0 0 0 0 0 0 0 0 1 0 \n"
     ]
    }
   ],
   "source": [
    "# 6095 : [기초-리스트] 바둑판에 흰 돌 놓기(설명)(py)\n",
    "n = int(input())\n",
    "pos = {}\n",
    "for i in range(n):\n",
    "    a, b = input().split()\n",
    "    pos[i] = [int(a), int(b)]\n",
    "# print(pos) # {0: [1, 1], 1: [1, 3], 2: [1, 5]}\n",
    "\n",
    "size = 19\n",
    "for s in range(1, size+1):\n",
    "    for k in range(1, size+1):\n",
    "        x = \"0\"\n",
    "        for p in pos:\n",
    "            pair = s, k\n",
    "            if pair == tuple(pos[p]):\n",
    "                x = \"1\"\n",
    "        print(x, end=\" \")\n",
    "    print(\"\")"
   ]
  },
  {
   "cell_type": "code",
   "execution_count": null,
   "id": "1ad1773a",
   "metadata": {},
   "outputs": [
    {
     "name": "stdout",
     "output_type": "stream",
     "text": [
      "1 1 0 \n",
      "0 0 1 \n",
      "0 0 1 \n"
     ]
    }
   ],
   "source": [
    "# 6096 : [기초-리스트] 바둑알 십자 뒤집기(py)\n",
    "# Step1. 바둑판 만들기\n",
    "size = 19\n",
    "plate = []\n",
    "for s in range(size):\n",
    "    horizontal_line = list(input().split())\n",
    "    plate.append(horizontal_line)\n",
    "# print(plate)  # [['0', '0', '0'], ['0', '1', '0'], ['0', '0', '0']]\n",
    "\n",
    "# Step2. 뒤집기 좌표를 저장하는 딕셔너리 만들기\n",
    "n = int(input())\n",
    "change_cord = {}\n",
    "for k in range(n):\n",
    "    x, y = input().split()\n",
    "    change_cord[k] = [int(x), int(y)]\n",
    "# print(change_cord)  # {0: [1, 1], 1: [1, 2], 2: [1, 3]}\n",
    "\n",
    "# # 수평선 요소 변경 함수\n",
    "# def horizontal_line_changer(l):\n",
    "#     ec = []\n",
    "#     for i in range(len(l)):\n",
    "#         if l[i] == '0':\n",
    "#             ec.append('1')\n",
    "#         else:\n",
    "#             ec.append('0')\n",
    "#     return ec\n",
    "\n",
    "for c in change_cord:\n",
    "    x_cor, y_cor = change_cord[c]\n",
    "    \n",
    "    # change x line values\n",
    "    # x_line = plate[(x_cor-1)]  # ['0', '0', '0']\n",
    "    # plate[(x_cor-1)] = horizontal_line_changer(x_line)\n",
    "    plate[(x_cor-1)] = ['1' if plate[(x_cor-1)][i] == '0' else '0' for i in range(len(plate[(x_cor-1)]))]\n",
    "    \n",
    "    # change y line values\n",
    "    for l in plate:\n",
    "        l[y_cor-1] = '1' if l[y_cor-1]=='0' else '0'\n",
    "\n",
    "for l in plate:\n",
    "    for e in l:\n",
    "        print(e, end=' ')\n",
    "    print(\"\")"
   ]
  },
  {
   "cell_type": "code",
   "execution_count": null,
   "id": "35f180e9",
   "metadata": {},
   "outputs": [
    {
     "name": "stdout",
     "output_type": "stream",
     "text": [
      "1 1 0 0 0 \n",
      "0 0 1 0 1 \n",
      "0 0 1 0 1 \n",
      "0 0 1 0 1 \n",
      "0 0 0 0 1 \n"
     ]
    }
   ],
   "source": [
    "# 6097 : [기초-리스트] 설탕과자 뽑기(py)\n",
    "# 메모리 초과: 320976\n",
    "import numpy as np\n",
    "\n",
    "# STEP1. 입력값 얻기\n",
    "w, h = input().split()\n",
    "n = int(input())\n",
    "bar = {}\n",
    "for k in range(n):\n",
    "    l, d, x, y = input().split()\n",
    "    bar[k] = [int(l), int(d), int(x), int(y)]\n",
    "\n",
    "# STEP2. 판 만들기\n",
    "plate = np.zeros((int(w), int(h)))\n",
    "# print(plate)\n",
    "\n",
    "# STEP3. 막대 놓기\n",
    "for b in bar:\n",
    "    # print(bar[b])\n",
    "    x_cor = bar[b][2]-1\n",
    "    y_cor = bar[b][3]-1\n",
    "    \n",
    "    # if bar[b][1] == 0:  # 막대가 가로 방향인 경우\n",
    "    #     for length in range(bar[b][0]):\n",
    "    #         plate[x_cor][y_cor] = 1\n",
    "    #         y_cor += 1\n",
    "    # else: # 막대가 세로 방향인 경우\n",
    "    #     for length in range(bar[b][0]):\n",
    "    #         plate[x_cor][y_cor] = 1\n",
    "    #         x_cor += 1\n",
    "\n",
    "    for length in range(bar[b][0]):\n",
    "        plate[x_cor][y_cor] = 1\n",
    "        if bar[b][1] == 0:\n",
    "            y_cor += 1\n",
    "        else:\n",
    "            x_cor += 1\n",
    "\n",
    "# STEP4. 격자판 출력하기\n",
    "for k in plate:\n",
    "    for e in k:\n",
    "        print(int(e), end=\" \")\n",
    "    print(\"\")"
   ]
  },
  {
   "cell_type": "code",
   "execution_count": null,
   "id": "39244f1d",
   "metadata": {},
   "outputs": [
    {
     "name": "stdout",
     "output_type": "stream",
     "text": [
      "1 1 1 1 \n",
      "1 1 1 1 \n",
      "1 1 1 1 \n"
     ]
    }
   ],
   "source": [
    "# 6097 : [기초-리스트] 설탕과자 뽑기(py)\n",
    "# STEP1. 입력값 얻기\n",
    "w, h = input().split()\n",
    "n = int(input())\n",
    "bar = []\n",
    "for k in range(n):\n",
    "    l, d, x, y = input().split()\n",
    "    bar.append([int(l), int(d), int(x), int(y)])\n",
    "\n",
    "# STEP2. 판 만들기\n",
    "plate = []\n",
    "for length in range(int(w)):\n",
    "    plate.append([0]*int(h))\n",
    "# print(plate)\n",
    "\n",
    "# STEP3. 막대 놓기\n",
    "for i in range(n):\n",
    "    # print(bar[b])\n",
    "    x_cor = int(bar[i][2])-1\n",
    "    y_cor = int(bar[i][3])-1\n",
    "\n",
    "    for length in range(int(bar[i][0])):\n",
    "        plate[x_cor][y_cor] = 1\n",
    "        if bar[i][1] == 0:\n",
    "            y_cor += 1\n",
    "        else:\n",
    "            x_cor += 1\n",
    "\n",
    "# STEP4. 격자판 출력하기\n",
    "for k in plate:\n",
    "    for e in k:\n",
    "        print(int(e), end=\" \")\n",
    "    print(\"\")"
   ]
  },
  {
   "cell_type": "code",
   "execution_count": null,
   "id": "a325bf58",
   "metadata": {},
   "outputs": [
    {
     "name": "stdout",
     "output_type": "stream",
     "text": [
      "1 1 1 1 1 1 1 1 1 1  \n",
      "1 9 9 9 9 9 9 9 9 1  \n",
      "1 0 0 0 0 0 0 0 9 1  \n",
      "1 0 0 0 0 0 0 0 9 1  \n",
      "1 0 0 0 0 0 0 0 9 1  \n",
      "1 0 0 0 0 0 0 0 9 1  \n",
      "1 0 0 0 0 0 0 0 9 1  \n",
      "1 0 0 0 0 0 0 0 9 1  \n",
      "1 0 0 0 0 0 0 0 9 1  \n",
      "1 1 1 1 1 1 1 1 1 1  \n"
     ]
    }
   ],
   "source": [
    "# 6098 : [기초-리스트] 성실한 개미(py)\n",
    "# 입력값 얻기, 미로 상자 저장하기\n",
    "map = []\n",
    "for i in range(10):\n",
    "    l = list(input().split())\n",
    "    map.append(l)\n",
    "\n",
    "# 개미의 초기 위치 설정, 경로 표시(9로 바꾸기)\n",
    "x_cor, y_cor = 1, 1\n",
    "map[x_cor][y_cor] = \"9\"  # 경로 표시(9로 바꾸기)\n",
    "last_x_cor, last_y_cor = 0, 0\n",
    "# 이동하기\n",
    "while True:\n",
    "    if (x_cor == last_x_cor) & (y_cor == last_y_cor):  # 더이상 이동하지 않는 경우\n",
    "        break\n",
    "    else:\n",
    "        last_x_cor, last_y_cor = x_cor, y_cor\n",
    "        \n",
    "        # 오른쪽이 0 이면, 오른쪽으로 이동\n",
    "        if map[x_cor][y_cor+1] == \"0\":\n",
    "            y_cor += 1\n",
    "\n",
    "        # 오른쪽이 2이면, 오른쪽으로 이동 (먹이를 찾은 경우)\n",
    "        elif map[x_cor][y_cor+1] == \"2\":\n",
    "            map[x_cor][y_cor] = \"9\"\n",
    "            map[x_cor][y_cor+1] = \"9\"\n",
    "            break\n",
    "            \n",
    "        # 오른쪽이 1 이고 아래가 0이면, 아래로 이동\n",
    "        elif map[x_cor][y_cor+1] == \"1\" and map[x_cor+1][y_cor] == \"0\":\n",
    "            x_cor += 1\n",
    "\n",
    "        # 오른쪽이 1 이고 아래가 2이면, 아래로 이동 (먹이를 찾은 경우)\n",
    "        elif map[x_cor][y_cor+1] == \"1\" and map[x_cor+1][y_cor] == \"2\":\n",
    "            map[x_cor][y_cor] = \"9\"\n",
    "            map[x_cor+1][y_cor] = \"9\"\n",
    "            break                    \n",
    "        \n",
    "        # 오른쪽이 1이고 아래가 1인 경우\n",
    "        else: \n",
    "            pass\n",
    "            \n",
    "        # 이동 후 위치에 경로 표시\n",
    "        map[x_cor][y_cor] = \"9\"\n",
    "     \n",
    "# 최종 미로 출력하기\n",
    "for l in map:\n",
    "    for e in l:\n",
    "        print(int(e), end=\" \")\n",
    "    print(\" \")"
   ]
  },
  {
   "cell_type": "code",
   "execution_count": null,
   "id": "d91e2a54",
   "metadata": {},
   "outputs": [],
   "source": []
  }
 ],
 "metadata": {
  "kernelspec": {
   "display_name": "cksdud39",
   "language": "python",
   "name": "python3"
  },
  "language_info": {
   "codemirror_mode": {
    "name": "ipython",
    "version": 3
   },
   "file_extension": ".py",
   "mimetype": "text/x-python",
   "name": "python",
   "nbconvert_exporter": "python",
   "pygments_lexer": "ipython3",
   "version": "3.9.19"
  }
 },
 "nbformat": 4,
 "nbformat_minor": 5
}
