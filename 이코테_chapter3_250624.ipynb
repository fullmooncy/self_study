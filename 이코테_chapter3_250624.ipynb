{
 "cells": [
  {
   "cell_type": "code",
   "execution_count": null,
   "id": "ff7be8ae",
   "metadata": {},
   "outputs": [
    {
     "name": "stdout",
     "output_type": "stream",
     "text": [
      "6\n"
     ]
    }
   ],
   "source": [
    "# 이것이 코딩 테스트다 with 파이썬\n",
    "# Part2. 주요 알고리즘 이론과 실전 문제\n",
    "# env: cksdud39\n",
    "# Chapter3. 그리디\n",
    "# 그리디. 현재 상황에서 지금 당장 좋은 것만을 고르는 방법\n",
    "# 예제3-1. 거스름돈\n",
    "n = 1260\n",
    "count = 0\n",
    "\n",
    "coin_types = [500, 100, 50, 10]\n",
    "\n",
    "for coin in coin_types:  # O(K)\n",
    "    count += n // coin\n",
    "    n %= coin\n",
    "\n",
    "print(count)"
   ]
  },
  {
   "cell_type": "code",
   "execution_count": null,
   "id": "8999dd79",
   "metadata": {},
   "outputs": [
    {
     "name": "stdout",
     "output_type": "stream",
     "text": [
      "46\n"
     ]
    }
   ],
   "source": [
    "# 대부분 그리디 알고리즘 문제에서는 문제 풀이를 위한 최소한의 아이디어를 떠울리고 이것이 정당한지 검토할 수 있어야 답을 도출할 수 있음\n",
    "# 실전문제. 큰 수의 법칙\n",
    "# k는 항상 m보다 작거나 같다. \n",
    "n, m, k = input().split()  # n: 배열의 크기, m: 숫자가 더해지는 횟수, k: k번 이하로 동일 인덱스 연속 가능\n",
    "n, m, k = int(n), int(m), int(k)\n",
    "number = list(input().split())\n",
    "number = [int(n) for n in number]\n",
    "\n",
    "# 가장 큰 수와 인덱스\n",
    "first_num = number[0]\n",
    "first_num_idx = 0\n",
    "for i in range(1, n):\n",
    "    if first_num < number[i]:\n",
    "        first_num = number[i]\n",
    "        first_num_idx = i\n",
    "# print(first_num)\n",
    "# print(first_num_idx)\n",
    "\n",
    "# 두번째로 큰 수와 인덱스 수하기\n",
    "second_num = 0\n",
    "second_num_idx = 0\n",
    "for i in range(n):\n",
    "    if (second_num < number[i]) and (number[i] <= first_num) and (i != first_num_idx):\n",
    "        second_num = number[i]\n",
    "        second_num_idx = i\n",
    "# print(second_num)\n",
    "# print(second_num_idx)\n",
    "\n",
    "# 최종 합 구하기\n",
    "if first_num == second_num:\n",
    "    total = first_num*m\n",
    "else:\n",
    "    q = m//(k+1)\n",
    "    r = m%(k+1)\n",
    "    total = q*(k*first_num + second_num) + r*first_num\n",
    "\n",
    "print(total)"
   ]
  },
  {
   "cell_type": "code",
   "execution_count": 16,
   "id": "1d0eb0f5",
   "metadata": {},
   "outputs": [
    {
     "name": "stdout",
     "output_type": "stream",
     "text": [
      "46\n"
     ]
    }
   ],
   "source": [
    "# 실전문제. 큰 수의 법칙 (해설)\n",
    "n, m, k = map(int, input().split())\n",
    "data = list(map(int, input().split()))\n",
    "\n",
    "data.sort()\n",
    "first = data[n-1]\n",
    "second = data[n-2]\n",
    "\n",
    "result = 0\n",
    "\n",
    "while True:\n",
    "    for i in range(k):\n",
    "        if m == 0:\n",
    "            break\n",
    "        result += first\n",
    "        m -= 1\n",
    "    \n",
    "    if m == 0:\n",
    "        break\n",
    "    result += second\n",
    "    m -= 1\n",
    "\n",
    "print(result)"
   ]
  },
  {
   "cell_type": "code",
   "execution_count": null,
   "id": "997a2a35",
   "metadata": {},
   "outputs": [
    {
     "name": "stdout",
     "output_type": "stream",
     "text": [
      "3\n"
     ]
    }
   ],
   "source": [
    "# 실전 문제. 숫자 카드 게임\n",
    "# STEP1. 행과 열 크기 입력 받기, 카드 리스트 만들기\n",
    "n , m = map(int, input().split())\n",
    "cards = []\n",
    "for i in range(n):\n",
    "    row = list(map(int, input().split()))\n",
    "    cards.append(row)\n",
    "# print(cards)\n",
    "\n",
    "# STEP2. 구하기\n",
    "target_row_index = 0\n",
    "cards[0].sort()\n",
    "max_num = cards[0][0]\n",
    "\n",
    "for r in range(1, n):\n",
    "    row = cards[r]\n",
    "    row.sort()\n",
    "    row_min_num = row[0]  # 행 마다 가장 작은 수를 수하기\n",
    "    # 다른 행 최소수 중 가장 큰 수의 인덱스 구하기\n",
    "    target_row_index = r if row_min_num >= max_num else target_row_index\n",
    "\n",
    "# STEP3. 출력하기\n",
    "print(cards[target_row_index][0])"
   ]
  },
  {
   "cell_type": "code",
   "execution_count": null,
   "id": "9ba71cc2",
   "metadata": {},
   "outputs": [],
   "source": [
    "# 실전 문제. 숫자 카드 게임 (해설)\n",
    "# key: 각 행마다 가장 작은 수를 찾은 뒤에 그 수 중에서 가장 큰 수를 찾는 것\n",
    "n, m = map(int, input().split())\n",
    "\n",
    "result = 0\n",
    "\n",
    "for i in range(n):\n",
    "    data = list(map(int, input().split()))\n",
    "    min_value = min(data)\n",
    "    result = max(result, min_value)\n",
    "\n",
    "print(result)\n",
    "\n",
    "# cards라는 별도의 list를 만들 필요가 없었음\n",
    "# min(), max()를 쓰면 쉽게 풀 수 있는 문제임\n",
    "# 부연 정보를 통해 문제를 해결하기 보다는 바로 문제를 해결하는 방향으로 가는 것이 더 좋을 것 같음\n",
    "\n",
    "# sol2. 2중 반복문 구조 이용\n",
    "n, m = map(int, input().split())\n",
    "result = 0\n",
    "\n",
    "for i in range(n):\n",
    "    data = list(map(int, input.split()))\n",
    "    min_value = 10001\n",
    "    for a in data:\n",
    "        min_value = min(min_value, a)\n",
    "    result = max(result, min_value)\n",
    "\n",
    "print(result)"
   ]
  },
  {
   "cell_type": "code",
   "execution_count": 47,
   "id": "d4fc4182",
   "metadata": {},
   "outputs": [
    {
     "name": "stdout",
     "output_type": "stream",
     "text": [
      "6\n"
     ]
    }
   ],
   "source": [
    "# 실전문제. 1이 될 때까지\n",
    "n, k = map(int, input().split())  # 25 3\n",
    "\n",
    "times = 0\n",
    "while n != 1:  # 최종값이 1이면 그만둔다\n",
    "    if n%k == 0:  # 나머지가 0이면, 나눈다\n",
    "        times += 1\n",
    "        n = n//k\n",
    "    else:  # 나머지가 0이 아니면, 1을 뺀다\n",
    "        times += 1\n",
    "        n -= 1\n",
    "\n",
    "print(times)"
   ]
  },
  {
   "cell_type": "code",
   "execution_count": 50,
   "id": "e3081f0a",
   "metadata": {},
   "outputs": [
    {
     "name": "stdout",
     "output_type": "stream",
     "text": [
      "6\n",
      "6\n"
     ]
    }
   ],
   "source": [
    "# 실전문제. 1이 될 때까지 (해설)\n",
    "# key: 주어진 n에 대하여 최대한 많이 나누기\n",
    "n, k = map(int, input().split())\n",
    "result = 0\n",
    "\n",
    "while n >= k:\n",
    "    while n % k != 0:\n",
    "        n -= 1\n",
    "        result += 1\n",
    "    n //= k\n",
    "    result += 1\n",
    "\n",
    "while n > 1:\n",
    "    n -= 1\n",
    "    result += 1\n",
    "\n",
    "print(result)\n",
    "\n",
    "# 내가 쓴 코드가 더 간단한 것 같다. 반복하는 횟수도 동일하다\n",
    "\n",
    "# sol2\n",
    "n, k = map(int, input().split())\n",
    "result = 0\n",
    "\n",
    "while True:\n",
    "    target = (n//k) * k\n",
    "    result += (n-target)\n",
    "    n = target\n",
    "    if n < k:\n",
    "        break\n",
    "    result += 1\n",
    "    n //= k\n",
    "\n",
    "result += n-1\n",
    "print(result)"
   ]
  },
  {
   "cell_type": "code",
   "execution_count": null,
   "id": "2c31d3d0",
   "metadata": {},
   "outputs": [],
   "source": []
  }
 ],
 "metadata": {
  "kernelspec": {
   "display_name": "cksdud39",
   "language": "python",
   "name": "python3"
  },
  "language_info": {
   "codemirror_mode": {
    "name": "ipython",
    "version": 3
   },
   "file_extension": ".py",
   "mimetype": "text/x-python",
   "name": "python",
   "nbconvert_exporter": "python",
   "pygments_lexer": "ipython3",
   "version": "3.9.19"
  }
 },
 "nbformat": 4,
 "nbformat_minor": 5
}
