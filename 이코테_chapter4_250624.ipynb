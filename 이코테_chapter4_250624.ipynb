{
 "cells": [
  {
   "cell_type": "code",
   "execution_count": 1,
   "id": "a59eb445",
   "metadata": {},
   "outputs": [],
   "source": [
    "# 이것이코딩테스트다\n",
    "# Chapter4. 구현\n",
    "# 구현: 머릿속에 있는 알고리즘을 소스코드로 바꾸는 과정\n",
    "# 완전 탐색: 모든 경우의 수를 주저 없이 다 계산하는 해결 방법\n",
    "# 시뮬레이션: 문제에서 제시한 아록리즘을 한 단계씩 차례대로 직접 수행해야 하는 문제 유형"
   ]
  },
  {
   "cell_type": "code",
   "execution_count": null,
   "id": "185078cc",
   "metadata": {},
   "outputs": [
    {
     "name": "stdout",
     "output_type": "stream",
     "text": [
      "['R', 'R', 'R', 'U', 'D', 'D']\n",
      "3 4\n"
     ]
    }
   ],
   "source": [
    "# 예제 4-1. 상하좌우\n",
    "# # ver1.0\n",
    "# n = int(input())\n",
    "# movement = list(input().split())\n",
    "# print(movement)  # ['R', 'R', 'R', 'U', 'D', 'D']\n",
    "# pos = [1, 1]\n",
    "# for m in movement:\n",
    "#     if m == \"U\" and pos[0] == 1:\n",
    "#         pass\n",
    "#     elif m == \"L\" and pos[1] == 1:\n",
    "#         pass\n",
    "#     elif m == \"R\" and pos[1] == n:\n",
    "#         pass\n",
    "#     elif m == \"D\" and pos[0] == n:\n",
    "#         pass\n",
    "#     else:\n",
    "#         if m == \"R\":\n",
    "#             pos[1] += 1\n",
    "#         elif m == \"L\":\n",
    "#             pos[1] -= 1\n",
    "#         elif m == \"U\":\n",
    "#             pos[0] -= 1\n",
    "#         else:\n",
    "#             pos[0] += 1\n",
    "\n",
    "# print(f\"{pos[0]} {pos[1]}\")         \n",
    "\n",
    "# ver1.1\n",
    "n = int(input())\n",
    "movement = list(input().split())\n",
    "print(movement)  # ['R', 'R', 'R', 'U', 'D', 'D']\n",
    "pos = [1, 1]\n",
    "for m in movement:\n",
    "    if m == \"U\" and pos[0] != 1:\n",
    "        pos[0] -= 1\n",
    "    elif m == \"L\" and pos[1] != 1:\n",
    "        pos[1] -= 1\n",
    "    elif m == \"R\" and pos[1] != n:\n",
    "        pos[1] += 1\n",
    "    elif m == \"D\" and pos[0] != n:\n",
    "        pos[0] += 1\n",
    "    else:\n",
    "        pass\n",
    "\n",
    "print(f\"{pos[0]} {pos[1]}\")       "
   ]
  },
  {
   "cell_type": "code",
   "execution_count": 8,
   "id": "0c473d04",
   "metadata": {},
   "outputs": [
    {
     "name": "stdout",
     "output_type": "stream",
     "text": [
      "3 5\n"
     ]
    }
   ],
   "source": [
    "# 예제 4-1. 상하좌우 (해설)\n",
    "n = int(input())\n",
    "x, y = 1, 1\n",
    "plans = input().split()\n",
    "\n",
    "# L, R, U, D에 따른 이동 방향\n",
    "dx = [0, 0, -1, 1]\n",
    "dy = [-1, 1, 0, 0]\n",
    "move_types = ['L', 'R', 'U', 'D']\n",
    "\n",
    "# 이동 계획을 하나씩 확인\n",
    "for plan in plans:\n",
    "    # 이동 후 좌표 구하기\n",
    "    for i in range(len(move_types)):\n",
    "        if plan == move_types[i]:\n",
    "            nx = x + dx[i]\n",
    "            ny = y + dy[i]\n",
    "    \n",
    "    # 공간을 벗어나는 경우 무시\n",
    "    if nx < 1 or ny < 1 or nx > n or ny > n:\n",
    "        continue\n",
    "    # 이동 수행\n",
    "    x, y = nx, ny\n",
    "\n",
    "print(x, y)"
   ]
  },
  {
   "cell_type": "code",
   "execution_count": 18,
   "id": "40b4c014",
   "metadata": {},
   "outputs": [
    {
     "name": "stdout",
     "output_type": "stream",
     "text": [
      "11475\n"
     ]
    }
   ],
   "source": [
    "# 예제 4-2. 시각\n",
    "# # ver1.0\n",
    "# n = int(input())\n",
    "# result = 0\n",
    "\n",
    "# # n에 3이 없는 경우, 분과 초에서 3이 등장한 횟수\n",
    "# count_of_3 = 0\n",
    "# for m in range(60):\n",
    "#     for s in range(60):\n",
    "#         now = list(str(m)+str(s))\n",
    "#         count_of_3 = count_of_3 + 1 if '3' in now else count_of_3\n",
    "\n",
    "# for t in range(n+1):\n",
    "#     # n에 3이 있는 경우, 60*60개 count\n",
    "#     if t in [3, 13, 23]:\n",
    "#         result += 60*60\n",
    "    \n",
    "#     # n에 3이 없는 경우, 분 단위 확인 필요함\n",
    "#     else:\n",
    "#         result += count_of_3\n",
    "\n",
    "# print(result)\n",
    "\n",
    "# ver1.1\n",
    "n = int(input())\n",
    "result = 0\n",
    "\n",
    "# n에 3이 없는 경우, 분과 초에서 3이 등장한 횟수\n",
    "count_of_3 = 0\n",
    "for m in range(60):\n",
    "    for s in range(60):\n",
    "        now = list(str(m)+str(s))\n",
    "        count_of_3 = count_of_3 + 1 if '3' in now else count_of_3\n",
    "\n",
    "for t in range(n+1):\n",
    "    result = result + 60*60 if t in [3, 13, 23] else result + count_of_3\n",
    "\n",
    "print(result)"
   ]
  },
  {
   "cell_type": "code",
   "execution_count": 19,
   "id": "f6953219",
   "metadata": {},
   "outputs": [
    {
     "name": "stdout",
     "output_type": "stream",
     "text": [
      "11475\n"
     ]
    }
   ],
   "source": [
    "# 예제 4-2. 시각 (해설)\n",
    "# H를 입력받기\n",
    "# 완전탐색 유형 Brute Forcing\n",
    "h = int(input())\n",
    "\n",
    "count = 0\n",
    "for i in range(h+1):\n",
    "    for j in range(60):\n",
    "        for k in range(60):\n",
    "            # 매 시각 안에 '3'이 포함되어 있다면 카운트 증가\n",
    "            if '3' in str(i)+str(j)+str(k):\n",
    "                count += 1\n",
    "\n",
    "print(count)"
   ]
  },
  {
   "cell_type": "code",
   "execution_count": 35,
   "id": "8204e957",
   "metadata": {},
   "outputs": [
    {
     "name": "stdout",
     "output_type": "stream",
     "text": [
      "2\n"
     ]
    }
   ],
   "source": [
    "# 실전문제2. 왕실의 나이트\n",
    "# # ver1.0\n",
    "# pos = list(input())\n",
    "# x, y = pos[0], pos[1] # 'a', '1'\n",
    "# result = 0\n",
    "# x_change_dict = {'a': '1', 'b':'2', 'c':'3', 'd':'4', 'e':'5', 'f':'6', 'g':'7', 'h':'8'}\n",
    "# x = x_change_dict[x]\n",
    "# # print(x, y)  # '1', '1'\n",
    "\n",
    "# for p in [2, -2]:\n",
    "#     for q in [1, -1]:\n",
    "#         new_x, new_y = int(x)+p, int(y)+q\n",
    "#         if (1 <= new_x <= 8) and (1 <= new_y <= 8):\n",
    "#             result += 1\n",
    "\n",
    "# for p in [1, -1]:\n",
    "#     for q in [2, -2]:\n",
    "#         new_x, new_y = int(x)+p, int(y)+q\n",
    "#         if (1 <= new_x <= 8) and (1 <= new_y <= 8):\n",
    "#             result += 1\n",
    "\n",
    "# print(result)\n",
    "\n",
    "# ver1.1\n",
    "pos = list(input())\n",
    "x, y = ord(pos[0])-96, int(pos[1]) # 1, '1'  # ord('a'): 97\n",
    "result = 0\n",
    "\n",
    "for p in [2, -2]:\n",
    "    for q in [1, -1]:\n",
    "        x_1, y_1 = x+p, y+q\n",
    "        if (1 <= x_1 <= 8) and (1 <= y_1 <= 8):\n",
    "            result += 1\n",
    "        \n",
    "        x_2, y_2 = x+q, y+p\n",
    "        if (1 <= x_2 <= 8) and (1 <= y_2 <= 8):\n",
    "            result += 1\n",
    "\n",
    "print(result)"
   ]
  },
  {
   "cell_type": "code",
   "execution_count": 37,
   "id": "b894841d",
   "metadata": {},
   "outputs": [
    {
     "name": "stdout",
     "output_type": "stream",
     "text": [
      "2\n"
     ]
    }
   ],
   "source": [
    "# 실전문제2. 왕실의 나이트 (해설)\n",
    "input_data = input()\n",
    "row = int(input_data[1])\n",
    "column = int(ord(input_data[0]))- int(ord('a')) + 1\n",
    "\n",
    "# 나이트가 이동할 수 있는 8가지 방향 정의\n",
    "steps = [(-2, -1), (-1, -2), (1, 2), (2, -1), (2, 1), (1, -2), (-1, 2), (-2, 1)]\n",
    "\n",
    "# 8가지 방향에 대하여 각 위치로 이동이 가능한지 확인\n",
    "result = 0\n",
    "for step in steps:\n",
    "    next_row = row + step[0]\n",
    "    next_column = column + step[1]\n",
    "    # 해당 위치로 이동이 가능하다면 카운트 증가\n",
    "    if next_row >= 1 and next_row <= 8 and next_column >= 1 and next_column <= 8:\n",
    "        result += 1\n",
    "    \n",
    "print(result)"
   ]
  },
  {
   "cell_type": "code",
   "execution_count": null,
   "id": "61c6fc67",
   "metadata": {},
   "outputs": [
    {
     "name": "stdout",
     "output_type": "stream",
     "text": [
      "[[1, 1, 1, 1], [1, 0, 0, 1], [1, 1, 0, 1], [1, 1, 1, 1]]\n",
      "2 2\n",
      "3\n"
     ]
    }
   ],
   "source": [
    "# 게임 개발\n",
    "# ver1.0\n",
    "n, m = map(int, input().split())\n",
    "x, y, d = map(int, input().split())\n",
    "world = []\n",
    "for i in range(n):\n",
    "    world.append(list(map(int, input().split())))\n",
    "# print(world)  # [[1, 1, 1, 1], [1, 0, 0, 1]]\n",
    "result = 1\n",
    "\n",
    "def moving_possible(x, y, d, world):\n",
    "    if d == 0:\n",
    "        y -= 1\n",
    "    elif d == 1:\n",
    "        x -= 1\n",
    "    elif d == 2:\n",
    "        y += 1\n",
    "    else:\n",
    "        x += 1\n",
    "    return True if world[x][y] == 0 else False\n",
    "\n",
    "turn_time = 0\n",
    "while True:\n",
    "    if moving_possible(x, y, d, world):\n",
    "        # 기존 맵의 현재 위치를 0에서 1로 수정 \n",
    "        world[x][y] = 1\n",
    "\n",
    "        # 위치 이동\n",
    "        if d == 0:\n",
    "            y -= 1\n",
    "        elif d == 1:\n",
    "            x -= 1\n",
    "        elif d == 2:\n",
    "            y += 1\n",
    "        else:\n",
    "            x += 1             \n",
    "\n",
    "        # 회전\n",
    "        d = 3 if d == 0 else d-1 \n",
    "        \n",
    "        result += 1\n",
    "        turn_time = 0  # 회전 횟수 초기화\n",
    "    else:\n",
    "        if turn_time >= 3:\n",
    "            break\n",
    "        d = 3 if d == 0 else d-1  # 회전\n",
    "        turn_time += 1\n",
    "\n",
    "print(x, y)\n",
    "print(result) "
   ]
  },
  {
   "cell_type": "code",
   "execution_count": null,
   "id": "8a10415c",
   "metadata": {},
   "outputs": [
    {
     "name": "stdout",
     "output_type": "stream",
     "text": [
      "3 3\n",
      "5\n"
     ]
    }
   ],
   "source": [
    "# 게임 개발\n",
    "# ver1.1\n",
    "n, m = map(int, input().split())\n",
    "x, y, d = map(int, input().split())\n",
    "world = []\n",
    "for i in range(n):\n",
    "    world.append(list(map(int, input().split())))\n",
    "# print(world)  # [[1, 1, 1, 1], [1, 0, 0, 1]]\n",
    "result = 1\n",
    "\n",
    "def moving_possible(x, y, d, world):\n",
    "    y = y-1 if d==0 else y\n",
    "    x = x-1 if d==1 else x\n",
    "    y = y+1 if d==2 else y\n",
    "    x = x+1 if d==3 else x\n",
    "    return True if world[x][y] == 0 else False\n",
    "\n",
    "turn_time = 0\n",
    "while True:\n",
    "    if moving_possible(x, y, d, world):\n",
    "        # 기존 맵의 현재 위치를 0에서 1로 수정 \n",
    "        world[x][y] = 1\n",
    "\n",
    "        # 위치 이동\n",
    "        y = y-1 if d==0 else y\n",
    "        x = x-1 if d==1 else x\n",
    "        y = y+1 if d==2 else y\n",
    "        x = x+1 if d==3 else x        \n",
    "\n",
    "        # 회전\n",
    "        d = 3 if d == 0 else d-1 \n",
    "        \n",
    "        result += 1\n",
    "        turn_time = 0  # 회전 횟수 초기화\n",
    "    else:\n",
    "        if turn_time >= 3:\n",
    "            break\n",
    "        d = 3 if d == 0 else d-1  # 회전\n",
    "        turn_time += 1\n",
    "\n",
    "print(x, y)\n",
    "print(result) \n",
    "\n",
    "# 뒤로 갈 수 있다면 이동하는 경우를 고려하지 않았음!!"
   ]
  },
  {
   "cell_type": "code",
   "execution_count": null,
   "id": "24314033",
   "metadata": {},
   "outputs": [
    {
     "name": "stdout",
     "output_type": "stream",
     "text": [
      "3\n"
     ]
    }
   ],
   "source": [
    "# 게임 개발 (해설)\n",
    "# 이동에 대한 별도의 리스트를 만들어 방향을 정하는 것이 효과적임\n",
    "# 2차원 리스트를 선언할 때는 컴프리헨션을 이용하는 것이 효율적임\n",
    "n, m = map(int, input().split())\n",
    "\n",
    "# 방문한 위치를 저장하기 위한 맵을 생성하여 0으로 초기화\n",
    "d = [[0]*m for _ in range(n)]\n",
    "# 현재 캐릭터의 x좌표, y좌표, 방향을 입력받기\n",
    "x, y, direction = map(int, input().split())\n",
    "d[x][y] = 1 # 현재 좌표 방문 처리\n",
    "\n",
    "# 전채 맵 정보를 받기\n",
    "array = []\n",
    "for i in range(n):\n",
    "    array.append(list(map(int, input().split())))\n",
    "\n",
    "# 북, 동, 남, 서 방향 정의\n",
    "dx = [-1, 0, 1, 0]\n",
    "dy = [0, 1, 0, -1]\n",
    "\n",
    "# 왼쪽으로 회전\n",
    "def turn_left():\n",
    "    global direction\n",
    "    direction -= 1\n",
    "    if direction == -1:\n",
    "        direction = 3\n",
    "\n",
    "# 시뮬레이션 시작\n",
    "count = 1\n",
    "turn_time = 0\n",
    "while True:\n",
    "    # 왼쪽으로 회전\n",
    "    turn_left()\n",
    "    nx = x + dx[direction]\n",
    "    ny = y + dy[direction]\n",
    "    # 회전한 이후 정면에 가보지 않은 칸이 존재하는 경우 이동\n",
    "    if d[nx][ny] == 0 and array[nx][ny] == 0:\n",
    "        d[nx][ny] = 1\n",
    "        x = nx\n",
    "        y = ny\n",
    "        count += 1\n",
    "        turn_time = 0\n",
    "        continue\n",
    "    \n",
    "    # 회전한 이후 정면에 가보지 않은 칸이 없거나 바다인 경우\n",
    "    else:\n",
    "        turn_time += 1\n",
    "    # 네 방향 모두 갈 수 없는 경우\n",
    "    if turn_time == 4:\n",
    "        nx = x - dx[direction]\n",
    "        ny = y - dy[direction]\n",
    "        # 뒤로 갈 수 있다면 이동하기\n",
    "        if array[nx][ny] == 0:\n",
    "            x = nx\n",
    "            y = ny\n",
    "        # 뒤가 바다로 막혀있는 경우\n",
    "        else:\n",
    "            break\n",
    "        turn_time = 0\n",
    "\n",
    "print(count)"
   ]
  }
 ],
 "metadata": {
  "kernelspec": {
   "display_name": "cksdud39",
   "language": "python",
   "name": "python3"
  },
  "language_info": {
   "codemirror_mode": {
    "name": "ipython",
    "version": 3
   },
   "file_extension": ".py",
   "mimetype": "text/x-python",
   "name": "python",
   "nbconvert_exporter": "python",
   "pygments_lexer": "ipython3",
   "version": "3.9.19"
  }
 },
 "nbformat": 4,
 "nbformat_minor": 5
}
