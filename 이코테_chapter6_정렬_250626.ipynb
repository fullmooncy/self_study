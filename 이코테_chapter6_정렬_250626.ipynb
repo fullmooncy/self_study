{
 "cells": [
  {
   "cell_type": "code",
   "execution_count": null,
   "id": "6cb16988",
   "metadata": {},
   "outputs": [
    {
     "name": "stdout",
     "output_type": "stream",
     "text": [
      "[0, 1, 2, 3, 4, 5, 6, 7, 8, 9]\n"
     ]
    }
   ],
   "source": [
    "# 이것이코딩테스트다\n",
    "# Chapter6. 정렬\n",
    "# 정렬(sorting): 데이터를 특정한 기준에 따라서 순서대로 나열하는 것\n",
    "# 정렬 알고리즘의 종류: 선택 정렬, 삽입 정렬, 퀵 정렬, 계수 정렬 등\n",
    "\n",
    "# 선택 정렬(selection sort): 매번 가장 작은 것을 선택함. 가장 작은 것을 선택해서 앞으로 보내는 과정을 반복함\n",
    "# 선택 정렬 소스코드\n",
    "array = [7, 5, 9, 0, 3, 1, 6, 2, 4, 8]\n",
    "\n",
    "for i in range(len(array)):\n",
    "    min_index = i\n",
    "    for j in range(i+1, len(array)):\n",
    "        if array[min_index] > array[j]:\n",
    "            min_index = j\n",
    "    array[i], array[min_index] = array[min_index], array[i]\n",
    "\n",
    "print(array)\n",
    "\n",
    "# 선택 정렬은 다른 알고리즘과 비교할 때 비효율적임\n",
    "# 하지만, 리스트에서 가장 작은 데이터를 찾는 경우는 잦으므로 익숙해지는 것이 필요함"
   ]
  },
  {
   "cell_type": "code",
   "execution_count": null,
   "id": "270d95d0",
   "metadata": {},
   "outputs": [
    {
     "name": "stdout",
     "output_type": "stream",
     "text": [
      "[0, 1, 2, 3, 4, 5, 6, 7, 8, 9]\n"
     ]
    }
   ],
   "source": [
    "# 삽입 정렬(insertion sort): 특정한 데이터를 적절한 위치에 삽입함\n",
    "# 삽입 정렬 소스코드\n",
    "\n",
    "array = [7, 5, 9, 0, 3, 1, 6, 2, 4, 8]\n",
    "\n",
    "for i in range(1, len(array)):\n",
    "    for j in range(i, 0, -1):  # 인덱스 i부터 1까지 감소하며 반복하는 문법\n",
    "        if array[j] < array[j-1]:  # 한 칸씩 왼쪽으로 이동\n",
    "            array[j], array[j-1] = array[j-1], array[j]\n",
    "        else:  # 자기보다 작은 데이터를 만나면 그 위치에서 멈춤\n",
    "            break\n",
    "\n",
    "print(array)"
   ]
  },
  {
   "cell_type": "code",
   "execution_count": null,
   "id": "cc8ede22",
   "metadata": {},
   "outputs": [
    {
     "name": "stdout",
     "output_type": "stream",
     "text": [
      "[0, 1, 2, 3, 4, 5, 6, 7, 8, 9]\n"
     ]
    }
   ],
   "source": [
    "# 퀵 정렬(quick sort)\n",
    "# 기준을 설정한 다음 큰 수와 작은 수를 교환한 후 리스트를 반으로 나누는 방식으로 동작함\n",
    "# 퀵 정렬을 수행하기 전에는 피벗을 어떻게 설정할 것인지를 미리 명시해야 함\n",
    "# 가장 대표적인 분할 방식인 호어 분할이 있음 Hoare Partition\n",
    "# 퀵 정렬은 재귀 함수와 동작 원리가 같음\n",
    "# 퀵 정렬 종료 조건은 현재 리스트의 데이터 개수가 1개인 경우임\n",
    "\n",
    "# 퀵 정렬 소스코드\n",
    "array = [5, 7, 9, 0, 3, 1, 6, 2, 4, 8]\n",
    "\n",
    "def quick_sort(array, start, end):\n",
    "    if start >= end:  # 원소가 1개인 경우 종료\n",
    "        return\n",
    "    pivot = start  # 피벗은 첫 번째 원소\n",
    "    left = start + 1\n",
    "    right = end\n",
    "    while left <= right:\n",
    "        # 피벗보다 큰 데이터를 찾을 때까지 반복\n",
    "        while left <= end and array[left] <= array[pivot]:\n",
    "            left += 1\n",
    "        # 피벗보다 작은 데이터를 찾을 때까지 반복\n",
    "        while right > start and array[right] >= array[pivot]:\n",
    "            right -= 1\n",
    "        if left > right:  # 엇갈렸다면 작은 데이터와 피벗을 교체\n",
    "            array[right], array[pivot] = array[pivot], array[right]\n",
    "        else:  # 엇갈리지 않았다면 작은 데이터와 큰 데이터를 교체\n",
    "            array[right], array[left] = array[left], array[right]\n",
    "    \n",
    "    # 분할 이후 왼쪽 부분과 오른쪽 부분에서 각각 정렬 수행\n",
    "    quick_sort(array, start, right -1)\n",
    "    quick_sort(array, right + 1, end)\n",
    "\n",
    "quick_sort(array, 0, len(array)-1)\n",
    "print(array)"
   ]
  },
  {
   "cell_type": "code",
   "execution_count": 8,
   "id": "fbce1be8",
   "metadata": {},
   "outputs": [
    {
     "name": "stdout",
     "output_type": "stream",
     "text": [
      "[0, 1, 2, 3, 4, 5, 6, 7, 8, 9]\n"
     ]
    }
   ],
   "source": [
    "# 파이썬의 장점을 살린 퀵 정렬 소스코드\n",
    "array = [5, 7, 9, 0, 3, 1, 6, 2, 4, 8]\n",
    "\n",
    "def quick_sort(array):\n",
    "    # 리스트가 하나 이하의 원소만을 담고 있다면 종료\n",
    "    if len(array) <= 1:\n",
    "        return array\n",
    "    \n",
    "    pivot = array[0]  # 피벗은 첫번째 원소\n",
    "    tail = array[1:]  # 피벗을 제외한 리스트\n",
    "    \n",
    "    left_side = [x for x in tail if x <= pivot]  # 분할된 왼쪽 부분\n",
    "    right_side = [x for x in tail if x > pivot]  # 분할된 오른쪽 부분\n",
    "    \n",
    "    # 분할 이후 왼쪽 부분과 오른쪽 부분에서 각자 정렬을 수행하고, 전체 리스트를 반환\n",
    "    return quick_sort(left_side) + [pivot] + quick_sort(right_side)\n",
    "\n",
    "print(quick_sort(array))\n",
    "\n",
    "# 퀵 정렬의 평균 시간 복잡도는 O(NlogN) 이지만 최악의 경우는 O(N^2)임"
   ]
  },
  {
   "cell_type": "code",
   "execution_count": 10,
   "id": "7f6f8583",
   "metadata": {},
   "outputs": [
    {
     "name": "stdout",
     "output_type": "stream",
     "text": [
      "0 0 1 1 2 2 3 4 5 5 6 7 8 9 9 "
     ]
    }
   ],
   "source": [
    "# 계수 정렬(count sort): 특정한 조건이 부합할 때만 사용할 수 있는 빠른 정렬 알고리즘\n",
    "# O(N + K) where 데이터의 개수가 N, 데이터의 최댓값이 K\n",
    "# 계수 정렬은 '데이터의 크기 범위가 제한되어 정수 형태로 표현할 수 있을 때'만 사용 가능함\n",
    "# 최댓값과 최솟값의 차이가 너무 크면 리스트 안에 담을 수 없음\n",
    "# 일반적으로 별도의 리스트를 선언하고, 그 안에 정렬에 대한 정보를 담음\n",
    "\n",
    "# 계수 정렬 소스코드\n",
    "# 모든 원소의 값이 0보다 크거나 같다고 가정함\n",
    "array = [7, 5, 9, 0, 3, 1, 6, 2, 9, 1, 4, 8, 0, 5, 2]\n",
    "# 모든 범위를 포함하는 리스트 선언(모든 값은 0으로 초기화)\n",
    "count = [0] * (max(array) + 1)\n",
    "\n",
    "for i in range(len(array)):\n",
    "    count[array[i]] += 1 # 각 데이터에 해당하는 인덱스의 값 등가\n",
    "\n",
    "for i in range(len(count)):\n",
    "    for j in range(count[i]):\n",
    "        print(i, end=' ')\n",
    "        \n",
    "# 데이터의 범위만 한정되어 있다면 효괒거으로 사용할 수 있으며 항상 빠르게 동작함\n",
    "# 기수 정렬(Radix sort)과 더불어 가장 빠름"
   ]
  },
  {
   "cell_type": "code",
   "execution_count": 16,
   "id": "2a60e2de",
   "metadata": {},
   "outputs": [
    {
     "name": "stdout",
     "output_type": "stream",
     "text": [
      "[0, 1, 2, 3, 4, 5, 6, 7, 8, 9]\n",
      "[7, 5, 9, 0, 3, 1, 6, 2, 4, 8]\n",
      "[0, 1, 2, 3, 4, 5, 6, 7, 8, 9]\n"
     ]
    }
   ],
   "source": [
    "# 파이썬 정렬 라이브러리 sorted()\n",
    "# sorted()는 퀵 정렬과 동작 방식이 비슷한 병합 정렬을 기반으로 만들어짐\n",
    "# 정렬 라이브러리는 항상 최악의 경우에도 시간 복잡도 O(NlogN)을 보장함\n",
    "\n",
    "array = [7, 5, 9, 0, 3, 1, 6, 2, 4, 8]\n",
    "print(sorted(array))\n",
    "print(array)\n",
    "array.sort()\n",
    "print(array)"
   ]
  },
  {
   "cell_type": "code",
   "execution_count": 17,
   "id": "468ce56a",
   "metadata": {},
   "outputs": [
    {
     "name": "stdout",
     "output_type": "stream",
     "text": [
      "[('banana', 2), ('carrot', 3), ('apple', 5)]\n"
     ]
    }
   ],
   "source": [
    "# 정렬 라이브러리에서 key를 활용한 소스코드\n",
    "array = [('banana', 2), ('apple', 5), ('carrot', 3)]\n",
    "\n",
    "def setting(data):\n",
    "    return data[1]\n",
    "\n",
    "result = sorted(array, key=setting)\n",
    "print(result)"
   ]
  },
  {
   "cell_type": "code",
   "execution_count": null,
   "id": "518d9f0a",
   "metadata": {},
   "outputs": [
    {
     "name": "stdout",
     "output_type": "stream",
     "text": [
      "61 53 15 "
     ]
    }
   ],
   "source": [
    "# 실전 문제2. 위에서 아래로\n",
    "# 입력 받기\n",
    "n = int(input())\n",
    "array = []\n",
    "for _ in range(n):\n",
    "    array.append(int(input()))\n",
    "\n",
    "# 정렬\n",
    "array.sort()\n",
    "\n",
    "# 출력\n",
    "for i in range(1, n+1):\n",
    "    print(array[-i], end=\" \")"
   ]
  },
  {
   "cell_type": "code",
   "execution_count": null,
   "id": "e7f05dfb",
   "metadata": {},
   "outputs": [
    {
     "name": "stdout",
     "output_type": "stream",
     "text": [
      "63 45 12 "
     ]
    }
   ],
   "source": [
    "# 실전 문제2. 위에서 아래로 (해설)\n",
    "n = int(input())\n",
    "\n",
    "# N개의 정수를 입력받아 리스트에 저장\n",
    "array = []\n",
    "for i in range(n):\n",
    "    array.append(int(input()))\n",
    "\n",
    "# 파이썬 기본 정렬 라이브러리를 이용하여 정렬 수행\n",
    "array = sorted(array, reverse=True)\n",
    "\n",
    "# 출력\n",
    "for i in array:\n",
    "    print(i, end=' ')"
   ]
  },
  {
   "cell_type": "code",
   "execution_count": null,
   "id": "a275311e",
   "metadata": {},
   "outputs": [
    {
     "name": "stdout",
     "output_type": "stream",
     "text": [
      "b a "
     ]
    }
   ],
   "source": [
    "# 실전 문제3. 성적이 낮은 순서로 학생 출력하기\n",
    "n = int(input())\n",
    "students = []\n",
    "\n",
    "def setting(data):\n",
    "    return data[1]\n",
    "\n",
    "for i in range(n):\n",
    "    name, score = input().split()\n",
    "    students.append((name, int(score)))\n",
    "\n",
    "students = sorted(students, key=setting, reverse=False)\n",
    "for name, score in students:\n",
    "    print(name, end=' ')"
   ]
  },
  {
   "cell_type": "code",
   "execution_count": null,
   "id": "65cb52ba",
   "metadata": {},
   "outputs": [
    {
     "name": "stdout",
     "output_type": "stream",
     "text": [
      "d n a "
     ]
    }
   ],
   "source": [
    "# 실전 문제3. 성적이 낮은 순서로 학생 출력하기 (해설)\n",
    "n = int(input())\n",
    "\n",
    "# N명의 학생 정보를 입력받아 리스트에 저장\n",
    "array = []\n",
    "for i in range(n):\n",
    "    input_data = input().split()\n",
    "    # 이름은 문자열 그대로, 점수는 정수형으로 변환하여 저장\n",
    "    array.append((input_data[0], int(input_data[1])))\n",
    "\n",
    "# 키를 이용하여, 점수를 기준으로 정렬\n",
    "array = sorted(array, key=lambda student: student[1])\n",
    "\n",
    "# 정렬이 수행된 결과를 출력\n",
    "for student in array:\n",
    "    print(student[0], end=' ')"
   ]
  },
  {
   "cell_type": "code",
   "execution_count": 41,
   "id": "a7703182",
   "metadata": {},
   "outputs": [
    {
     "name": "stdout",
     "output_type": "stream",
     "text": [
      "35\n"
     ]
    }
   ],
   "source": [
    "# 실전 문제4. 두 배열의 원소 교체\n",
    "n, k = map(int, input().split())\n",
    "a = list(map(int, input().split()))\n",
    "b = list(map(int, input().split()))\n",
    "# print(a)\n",
    "# print(b)\n",
    "a_sum = sum(a)\n",
    "# print(a_sum)\n",
    "\n",
    "# 최대 K번 바꿔치기를 시행함\n",
    "for t in range(k):\n",
    "    # a에서 가장 작은 값을 고르고, 해당 값을 a에서 제거\n",
    "    to_b = min(a)\n",
    "    a.remove(min(a))\n",
    "    # b에서 가장 큰 값을 고르고, 해당 값을 b에서 제거\n",
    "    to_a = max(b)\n",
    "    b.remove(max(b))\n",
    "    \n",
    "    # b에서 가장 큰 값을 a에 추가하고, a에서 가장 작은 값을 b에 추가함\n",
    "    a.append(to_a)\n",
    "    b.append(to_b)\n",
    "    \n",
    "    # 만약 a 요소의 합이 큰 경우에 해당 합을 저장함. 그렇지 않으면 저장하지 않음\n",
    "    a_sum = sum(a) if sum(a) > a_sum else a_sum\n",
    "\n",
    "print(a_sum)"
   ]
  },
  {
   "cell_type": "code",
   "execution_count": null,
   "id": "3f2b4e37",
   "metadata": {},
   "outputs": [
    {
     "name": "stdout",
     "output_type": "stream",
     "text": [
      "26\n"
     ]
    }
   ],
   "source": [
    "# 실전 문제4. 두 배열의 원소 교체 (해설)\n",
    "n, k = map(int, input().split())\n",
    "a = list(map(int, input().split()))\n",
    "b = list(map(int, input().split()))\n",
    "\n",
    "a.sort()  # 배열 A는 오름차순 정렬 수행\n",
    "b.sort(reverse=True)  # 배열 B는 내림차순 정렬 수행\n",
    "\n",
    "# 첫 번째 인덱스부터 확인하며, 두 배열의 원소를 최대 K번 비교\n",
    "for i in range(k):\n",
    "    # A의 원소가 B의 원소보다 작은 경우\n",
    "    if a[i] < b[i]:\n",
    "        # 두 원소를 교체\n",
    "        a[i], b[i] = b[i], a[i]\n",
    "    else:  # A의 원소가 B의 원소보다 크거나 같을 때, 반복문을 탈출\n",
    "        break\n",
    "\n",
    "print(sum(a))  # 배열 A의 모든 원소의 합을 출력\n",
    "\n",
    "# 두 원소를 교체하는 방식을 사용한다면, to_a 와 to_b를 따로 안 만들 수 있었음\n",
    "# 원소가 더 작은 경우에 교체한다는 조건을 생각해내지 못했음"
   ]
  }
 ],
 "metadata": {
  "kernelspec": {
   "display_name": "cksdud39",
   "language": "python",
   "name": "python3"
  },
  "language_info": {
   "codemirror_mode": {
    "name": "ipython",
    "version": 3
   },
   "file_extension": ".py",
   "mimetype": "text/x-python",
   "name": "python",
   "nbconvert_exporter": "python",
   "pygments_lexer": "ipython3",
   "version": "3.9.19"
  }
 },
 "nbformat": 4,
 "nbformat_minor": 5
}
